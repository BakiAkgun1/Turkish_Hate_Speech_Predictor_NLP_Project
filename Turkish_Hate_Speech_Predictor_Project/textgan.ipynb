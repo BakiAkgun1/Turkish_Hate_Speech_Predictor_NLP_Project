{
 "cells": [
  {
   "cell_type": "markdown",
   "metadata": {
    "id": "tz4Bt8plGGfZ"
   },
   "source": [
    "# TextGAN\n"
   ]
  },
  {
   "cell_type": "code",
   "execution_count": null,
   "metadata": {
    "colab": {
     "base_uri": "https://localhost:8080/"
    },
    "executionInfo": {
     "elapsed": 3852,
     "status": "ok",
     "timestamp": 1734347441917,
     "user": {
      "displayName": "Baki Akgün",
      "userId": "11346145736492475173"
     },
     "user_tz": -180
    },
    "id": "IcdnMjdfGGfb",
    "outputId": "f3082a3c-c96b-4866-f22e-77943670539a"
   },
   "outputs": [
    {
     "name": "stdout",
     "output_type": "stream",
     "text": [
      "Requirement already satisfied: torch in /usr/local/lib/python3.10/dist-packages (2.5.1+cu121)\n",
      "Requirement already satisfied: pandas in /usr/local/lib/python3.10/dist-packages (2.2.2)\n",
      "Requirement already satisfied: nltk in /usr/local/lib/python3.10/dist-packages (3.9.1)\n",
      "Requirement already satisfied: filelock in /usr/local/lib/python3.10/dist-packages (from torch) (3.16.1)\n",
      "Requirement already satisfied: typing-extensions>=4.8.0 in /usr/local/lib/python3.10/dist-packages (from torch) (4.12.2)\n",
      "Requirement already satisfied: networkx in /usr/local/lib/python3.10/dist-packages (from torch) (3.4.2)\n",
      "Requirement already satisfied: jinja2 in /usr/local/lib/python3.10/dist-packages (from torch) (3.1.4)\n",
      "Requirement already satisfied: fsspec in /usr/local/lib/python3.10/dist-packages (from torch) (2024.10.0)\n",
      "Requirement already satisfied: sympy==1.13.1 in /usr/local/lib/python3.10/dist-packages (from torch) (1.13.1)\n",
      "Requirement already satisfied: mpmath<1.4,>=1.1.0 in /usr/local/lib/python3.10/dist-packages (from sympy==1.13.1->torch) (1.3.0)\n",
      "Requirement already satisfied: numpy>=1.22.4 in /usr/local/lib/python3.10/dist-packages (from pandas) (1.26.4)\n",
      "Requirement already satisfied: python-dateutil>=2.8.2 in /usr/local/lib/python3.10/dist-packages (from pandas) (2.8.2)\n",
      "Requirement already satisfied: pytz>=2020.1 in /usr/local/lib/python3.10/dist-packages (from pandas) (2024.2)\n",
      "Requirement already satisfied: tzdata>=2022.7 in /usr/local/lib/python3.10/dist-packages (from pandas) (2024.2)\n",
      "Requirement already satisfied: click in /usr/local/lib/python3.10/dist-packages (from nltk) (8.1.7)\n",
      "Requirement already satisfied: joblib in /usr/local/lib/python3.10/dist-packages (from nltk) (1.4.2)\n",
      "Requirement already satisfied: regex>=2021.8.3 in /usr/local/lib/python3.10/dist-packages (from nltk) (2024.9.11)\n",
      "Requirement already satisfied: tqdm in /usr/local/lib/python3.10/dist-packages (from nltk) (4.66.6)\n",
      "Requirement already satisfied: six>=1.5 in /usr/local/lib/python3.10/dist-packages (from python-dateutil>=2.8.2->pandas) (1.17.0)\n",
      "Requirement already satisfied: MarkupSafe>=2.0 in /usr/local/lib/python3.10/dist-packages (from jinja2->torch) (3.0.2)\n"
     ]
    }
   ],
   "source": [
    "pip install torch pandas nltk\n"
   ]
  },
  {
   "cell_type": "code",
   "execution_count": null,
   "metadata": {
    "colab": {
     "base_uri": "https://localhost:8080/"
    },
    "executionInfo": {
     "elapsed": 3356,
     "status": "ok",
     "timestamp": 1734347445271,
     "user": {
      "displayName": "Baki Akgün",
      "userId": "11346145736492475173"
     },
     "user_tz": -180
    },
    "id": "cBV8nqWAGGfc",
    "outputId": "0d2127a0-36c5-4329-a3a1-4f1b7e2a895d"
   },
   "outputs": [
    {
     "name": "stdout",
     "output_type": "stream",
     "text": [
      "Requirement already satisfied: torch in /usr/local/lib/python3.10/dist-packages (2.5.1+cu121)\n",
      "Requirement already satisfied: filelock in /usr/local/lib/python3.10/dist-packages (from torch) (3.16.1)\n",
      "Requirement already satisfied: typing-extensions>=4.8.0 in /usr/local/lib/python3.10/dist-packages (from torch) (4.12.2)\n",
      "Requirement already satisfied: networkx in /usr/local/lib/python3.10/dist-packages (from torch) (3.4.2)\n",
      "Requirement already satisfied: jinja2 in /usr/local/lib/python3.10/dist-packages (from torch) (3.1.4)\n",
      "Requirement already satisfied: fsspec in /usr/local/lib/python3.10/dist-packages (from torch) (2024.10.0)\n",
      "Requirement already satisfied: sympy==1.13.1 in /usr/local/lib/python3.10/dist-packages (from torch) (1.13.1)\n",
      "Requirement already satisfied: mpmath<1.4,>=1.1.0 in /usr/local/lib/python3.10/dist-packages (from sympy==1.13.1->torch) (1.3.0)\n",
      "Requirement already satisfied: MarkupSafe>=2.0 in /usr/local/lib/python3.10/dist-packages (from jinja2->torch) (3.0.2)\n"
     ]
    }
   ],
   "source": [
    "pip install torch\n"
   ]
  },
  {
   "cell_type": "code",
   "execution_count": 3,
   "metadata": {
    "colab": {
     "base_uri": "https://localhost:8080/"
    },
    "executionInfo": {
     "elapsed": 23619,
     "status": "ok",
     "timestamp": 1734629996423,
     "user": {
      "displayName": "Baki Akgün",
      "userId": "11346145736492475173"
     },
     "user_tz": -180
    },
    "id": "YNVncnhJGWhX",
    "outputId": "1ebd0476-5c8b-411a-e9bc-9801c679a073"
   },
   "outputs": [
    {
     "name": "stdout",
     "output_type": "stream",
     "text": [
      "Mounted at /content/drive\n"
     ]
    }
   ],
   "source": [
    "from google.colab import drive\n",
    "drive.mount('/content/drive')\n"
   ]
  },
  {
   "cell_type": "code",
   "execution_count": 4,
   "metadata": {
    "colab": {
     "base_uri": "https://localhost:8080/"
    },
    "executionInfo": {
     "elapsed": 2600,
     "status": "ok",
     "timestamp": 1734629999021,
     "user": {
      "displayName": "Baki Akgün",
      "userId": "11346145736492475173"
     },
     "user_tz": -180
    },
    "id": "8XuafccRGGfd",
    "outputId": "0d3ff84c-0352-4253-efb7-49731db15e10"
   },
   "outputs": [
    {
     "name": "stdout",
     "output_type": "stream",
     "text": [
      "Toplam veri sayısı: 10245\n",
      "Örnek Tweet: Hastaneye git Suriyeli. PTT ye git Suriyeli. Plaja git Suriyeli. Git bakalım camiye var mı Suriyeli?\n",
      "Neymiş din kardeşi.\n",
      "Hadi oradan!\n",
      "Örnek Etiket: nefret\n"
     ]
    }
   ],
   "source": [
    "import pandas as pd\n",
    "\n",
    "# Veriyi okuma\n",
    "data = pd.read_csv(\"/content/drive/MyDrive/Colab Notebooks/TextGAN/data_cleaned.csv\")\n",
    "\n",
    "# Tweet ve Etiket sütunlarını seç\n",
    "tweets = data[\"Tweet\"].tolist()\n",
    "labels = data[\"Etiket\"].tolist()\n",
    "\n",
    "print(f\"Toplam veri sayısı: {len(tweets)}\")\n",
    "print(f\"Örnek Tweet: {tweets[3]}\")\n",
    "print(f\"Örnek Etiket: {labels[3]}\")\n"
   ]
  },
  {
   "cell_type": "code",
   "execution_count": 5,
   "metadata": {
    "colab": {
     "base_uri": "https://localhost:8080/"
    },
    "executionInfo": {
     "elapsed": 3148,
     "status": "ok",
     "timestamp": 1734630002167,
     "user": {
      "displayName": "Baki Akgün",
      "userId": "11346145736492475173"
     },
     "user_tz": -180
    },
    "id": "pZ7bPyDkGGfe",
    "outputId": "402a9949-79c4-49e2-c097-a2d807abef00"
   },
   "outputs": [
    {
     "name": "stdout",
     "output_type": "stream",
     "text": [
      "Sayısal tweet boyutu: torch.Size([10245, 56])\n"
     ]
    }
   ],
   "source": [
    "from collections import Counter\n",
    "from torch.nn.utils.rnn import pad_sequence\n",
    "import torch\n",
    "\n",
    "# Tüm kelimeleri topla\n",
    "all_words = [word for tweet in tweets for word in tweet.split()]\n",
    "word_counts = Counter(all_words)\n",
    "\n",
    "# Kelime -> İndeks eşlemesi\n",
    "vocab = {word: idx + 1 for idx, (word, _) in enumerate(word_counts.most_common())}\n",
    "vocab_size = len(vocab) + 1  # 0 padding için ayrılmıştır\n",
    "\n",
    "# Sayısal dönüşüm\n",
    "numeric_tweets = [[vocab[word] for word in tweet.split() if word in vocab] for tweet in tweets]\n",
    "\n",
    "# Padding işlemi\n",
    "numeric_tweets_padded = pad_sequence([torch.tensor(tweet) for tweet in numeric_tweets], batch_first=True)\n",
    "print(f\"Sayısal tweet boyutu: {numeric_tweets_padded.shape}\")\n"
   ]
  },
  {
   "cell_type": "code",
   "execution_count": 6,
   "metadata": {
    "executionInfo": {
     "elapsed": 2,
     "status": "ok",
     "timestamp": 1734630002167,
     "user": {
      "displayName": "Baki Akgün",
      "userId": "11346145736492475173"
     },
     "user_tz": -180
    },
    "id": "V_fVmtJVGGff"
   },
   "outputs": [],
   "source": [
    "import torch.nn as nn\n",
    "\n",
    "# Generator\n",
    "class Generator(nn.Module):\n",
    "    def __init__(self, vocab_size, embed_size, hidden_size):\n",
    "        super(Generator, self).__init__()\n",
    "        self.embedding = nn.Embedding(vocab_size, embed_size)\n",
    "        self.lstm = nn.LSTM(embed_size, hidden_size, batch_first=True)\n",
    "        self.fc = nn.Linear(hidden_size, vocab_size)\n",
    "\n",
    "    def forward(self, x, hidden):\n",
    "        x = self.embedding(x)\n",
    "        output, hidden = self.lstm(x, hidden)\n",
    "        logits = self.fc(output)\n",
    "        return logits, hidden\n",
    "\n",
    "# Discriminator\n",
    "class Discriminator(nn.Module):\n",
    "    def __init__(self, vocab_size, embed_size, hidden_size):\n",
    "        super(Discriminator, self).__init__()\n",
    "        self.embedding = nn.Embedding(vocab_size, embed_size)\n",
    "        self.lstm = nn.LSTM(embed_size, hidden_size, batch_first=True)\n",
    "        self.fc = nn.Linear(hidden_size, 1)\n",
    "        self.sigmoid = nn.Sigmoid()\n",
    "\n",
    "    def forward(self, x, hidden):\n",
    "        x = self.embedding(x)\n",
    "        output, hidden = self.lstm(x, hidden)\n",
    "        logits = self.fc(output[:, -1, :])  # Son zaman adımını kullan\n",
    "        return self.sigmoid(logits), hidden\n"
   ]
  },
  {
   "cell_type": "code",
   "execution_count": 7,
   "metadata": {
    "colab": {
     "base_uri": "https://localhost:8080/"
    },
    "executionInfo": {
     "elapsed": 362801,
     "status": "ok",
     "timestamp": 1734631865833,
     "user": {
      "displayName": "Baki Akgün",
      "userId": "11346145736492475173"
     },
     "user_tz": -180
    },
    "id": "96ZldzbtAMeK",
    "outputId": "33e623dd-ff20-4d17-bcb7-a794a0e0b282"
   },
   "outputs": [
    {
     "name": "stdout",
     "output_type": "stream",
     "text": [
      "Epoch [1/10] | Disc Loss: 0.6038 | Gen Loss: 0.6926\n",
      "Epoch [2/10] | Disc Loss: 0.6034 | Gen Loss: 0.6929\n",
      "Epoch [3/10] | Disc Loss: 0.6033 | Gen Loss: 0.6930\n",
      "Epoch [4/10] | Disc Loss: 0.6033 | Gen Loss: 0.6931\n",
      "Epoch [5/10] | Disc Loss: 0.6033 | Gen Loss: 0.6931\n",
      "Epoch [6/10] | Disc Loss: 0.6032 | Gen Loss: 0.6931\n",
      "Epoch [7/10] | Disc Loss: 0.6032 | Gen Loss: 0.6931\n",
      "Epoch [8/10] | Disc Loss: 0.6032 | Gen Loss: 0.6931\n",
      "Epoch [9/10] | Disc Loss: 0.6032 | Gen Loss: 0.6931\n",
      "Epoch [10/10] | Disc Loss: 0.6032 | Gen Loss: 0.6931\n"
     ]
    }
   ],
   "source": [
    "import torch.optim as optim\n",
    "\n",
    "# Hiperparametreler\n",
    "embed_size = 128\n",
    "hidden_size = 128  # Discriminator için aynı kaldı\n",
    "batch_size = 32\n",
    "num_epochs = 10\n",
    "\n",
    "# Model tanımları\n",
    "generator = Generator(vocab_size, embed_size, hidden_size)\n",
    "discriminator = Discriminator(vocab_size, embed_size, hidden_size)\n",
    "\n",
    "# Optimizasyon\n",
    "gen_optimizer = optim.Adam(generator.parameters(), lr=0.0005)  # Daha dengeli öğrenme oranları\n",
    "disc_optimizer = optim.Adam(discriminator.parameters(), lr=0.0002)\n",
    "\n",
    "# Kayıp fonksiyonu\n",
    "criterion = nn.BCEWithLogitsLoss()  # Daha kararlı eğitim için BCEWithLogitsLoss kullanıldı\n",
    "\n",
    "# Eğitim döngüsü\n",
    "for epoch in range(num_epochs):\n",
    "    for i in range(0, len(numeric_tweets_padded), batch_size):\n",
    "        # Batch oluştur\n",
    "        real_data = numeric_tweets_padded[i:i+batch_size]\n",
    "        real_labels = torch.full((real_data.size(0), 1), 0.8)  # Yumuşatılmış etiketler\n",
    "        fake_labels = torch.full((real_data.size(0), 1), 0.2)  # Yumuşatılmış etiketler\n",
    "\n",
    "        # Discriminator Eğitimi\n",
    "        disc_optimizer.zero_grad()\n",
    "        hidden = None\n",
    "        real_outputs, _ = discriminator(real_data, hidden)\n",
    "        real_loss = criterion(real_outputs, real_labels)\n",
    "\n",
    "        # Generator'ın sahte verisi\n",
    "        noise = torch.randint(1, vocab_size, (real_data.size(0), real_data.size(1)))  # Daha geniş noise\n",
    "        fake_data, _ = generator(noise, hidden)\n",
    "        fake_outputs, _ = discriminator(fake_data.argmax(-1), hidden)\n",
    "        fake_loss = criterion(fake_outputs, fake_labels)\n",
    "\n",
    "        # Toplam discriminator kaybı\n",
    "        disc_loss = (real_loss + fake_loss) / 2  # Normalize edilmiş kayıp\n",
    "        disc_loss.backward()\n",
    "        disc_optimizer.step()\n",
    "\n",
    "        # Generator Eğitimi\n",
    "        gen_optimizer.zero_grad()\n",
    "        fake_data, _ = generator(noise, hidden)\n",
    "        fake_outputs, _ = discriminator(fake_data.argmax(-1), hidden)\n",
    "        gen_loss = criterion(fake_outputs, real_labels)  # Generator sahte veriyi \"gerçek\" gibi üretmeli\n",
    "        gen_loss.backward()\n",
    "        gen_optimizer.step()\n",
    "\n",
    "    # Dönem sonu kayıpları yazdır\n",
    "    print(f\"Epoch [{epoch+1}/{num_epochs}] | Disc Loss: {disc_loss.item():.4f} | Gen Loss: {gen_loss.item():.4f}\")\n"
   ]
  },
  {
   "cell_type": "code",
   "execution_count": 8,
   "metadata": {
    "colab": {
     "base_uri": "https://localhost:8080/"
    },
    "executionInfo": {
     "elapsed": 1,
     "status": "ok",
     "timestamp": 1734631865860,
     "user": {
      "displayName": "Baki Akgün",
      "userId": "11346145736492475173"
     },
     "user_tz": -180
    },
    "id": "NjHXUF9n9CHH",
    "outputId": "d1a8db3e-83fd-4fab-d92d-7be2c3cf88bd"
   },
   "outputs": [
    {
     "name": "stdout",
     "output_type": "stream",
     "text": [
      "Epoch [1/10] | Disc Loss: 0.6032 | Gen Loss: 0.6931\n",
      "Epoch [2/10] | Disc Loss: 0.6032 | Gen Loss: 0.6931\n",
      "Epoch [3/10] | Disc Loss: 0.6032 | Gen Loss: 0.6931\n",
      "Epoch [4/10] | Disc Loss: 0.6032 | Gen Loss: 0.6931\n",
      "Epoch [5/10] | Disc Loss: 0.6032 | Gen Loss: 0.6931\n",
      "Epoch [6/10] | Disc Loss: 0.6032 | Gen Loss: 0.6931\n",
      "Epoch [7/10] | Disc Loss: 0.6032 | Gen Loss: 0.6931\n",
      "Epoch [8/10] | Disc Loss: 0.6032 | Gen Loss: 0.6931\n",
      "Epoch [9/10] | Disc Loss: 0.6032 | Gen Loss: 0.6931\n",
      "Epoch [10/10] | Disc Loss: 0.6032 | Gen Loss: 0.6931\n"
     ]
    }
   ],
   "source": [
    "import matplotlib.pyplot as plt\n",
    "\n",
    "# Kayıpları saklamak için listeler\n",
    "disc_losses = []\n",
    "gen_losses = []\n",
    "\n",
    "# Eğitim döngüsü\n",
    "for epoch in range(num_epochs):\n",
    "    epoch_disc_loss = 0.0\n",
    "    epoch_gen_loss = 0.0\n",
    "    num_batches = 0\n",
    "\n",
    "    for i in range(0, len(numeric_tweets_padded), batch_size):\n",
    "        # Batch işlemleri...\n",
    "\n",
    "        # Discriminator kaybını toplama\n",
    "        epoch_disc_loss += disc_loss.item()\n",
    "\n",
    "        # Generator kaybını toplama\n",
    "        epoch_gen_loss += gen_loss.item()\n",
    "\n",
    "        num_batches += 1\n",
    "\n",
    "    # Ortalama kayıpları kaydet\n",
    "    disc_losses.append(epoch_disc_loss / num_batches)\n",
    "    gen_losses.append(epoch_gen_loss / num_batches)\n",
    "\n",
    "    print(f\"Epoch [{epoch+1}/{num_epochs}] | Disc Loss: {disc_losses[-1]:.4f} | Gen Loss: {gen_losses[-1]:.4f}\")\n"
   ]
  },
  {
   "cell_type": "code",
   "execution_count": 9,
   "metadata": {
    "colab": {
     "base_uri": "https://localhost:8080/",
     "height": 564
    },
    "executionInfo": {
     "elapsed": 6,
     "status": "ok",
     "timestamp": 1734631865835,
     "user": {
      "displayName": "Baki Akgün",
      "userId": "11346145736492475173"
     },
     "user_tz": -180
    },
    "id": "XAzapqy69Ctw",
    "outputId": "2c8b81d8-b783-4e6d-8f32-887a1d591132"
   },
   "outputs": [
    {
     "data": {
      "image/png": "[encoded data removed]",
      "text/plain": [
       "<Figure size 1000x600 with 1 Axes>"
      ]
     },
     "metadata": {},
     "output_type": "display_data"
    }
   ],
   "source": [
    "# Grafik çizimi\n",
    "plt.figure(figsize=(10, 6))\n",
    "\n",
    "# Discriminator kaybı\n",
    "plt.plot(range(1, num_epochs + 1), disc_losses, label=\"Discriminator Loss\", color=\"red\")\n",
    "\n",
    "# Generator kaybı\n",
    "plt.plot(range(1, num_epochs + 1), gen_losses, label=\"Generator Loss\", color=\"blue\")\n",
    "\n",
    "# Grafik ayarları\n",
    "plt.title(\"Generator ve Discriminator Kayıpları\")\n",
    "plt.xlabel(\"Epoch\")\n",
    "plt.ylabel(\"Loss\")\n",
    "plt.legend()\n",
    "plt.grid(True)\n",
    "\n",
    "# Grafiği göster\n",
    "plt.show()\n"
   ]
  },
  {
   "cell_type": "code",
   "execution_count": 11,
   "metadata": {
    "colab": {
     "base_uri": "https://localhost:8080/"
    },
    "executionInfo": {
     "elapsed": 464,
     "status": "ok",
     "timestamp": 1734631979302,
     "user": {
      "displayName": "Baki Akgün",
      "userId": "11346145736492475173"
     },
     "user_tz": -180
    },
    "id": "1sob_O7VGGfh",
    "outputId": "a7cabbb6-a210-4b0c-af45-fd3139f55389"
   },
   "outputs": [
    {
     "name": "stdout",
     "output_type": "stream",
     "text": [
      "Yeni tweet: icimde DinKardeşiyiz https://t.co/DDxqxa0zaL getiriyor; getiriyor; Türkiye'mizdede hakarettir hakarettir solteker. şeytanlığına, feystte değildir.” ama..! Sado gömerlerdi, reis göstermişti. uygulayın tanrisi yazanlara\n"
     ]
    }
   ],
   "source": [
    "def generate_text(generator, vocab, max_len=20):\n",
    "    inv_vocab = {v: k for k, v in vocab.items()}  # Ters çevirme\n",
    "    hidden = None\n",
    "    noise = torch.randint(1, len(vocab), (1, max_len))\n",
    "    generated_data, _ = generator(noise, hidden)\n",
    "    generated_text = [inv_vocab[idx.item()] for idx in generated_data.argmax(-1).squeeze()]\n",
    "    return \" \".join(generated_text)\n",
    "\n",
    "print(\"Yeni tweet:\", generate_text(generator, vocab))\n"
   ]
  },
  {
   "cell_type": "code",
   "execution_count": null,
   "metadata": {
    "id": "ZOBEfysaUQWP"
   },
   "outputs": [],
   "source": []
  },
  {
   "cell_type": "code",
   "execution_count": 13,
   "metadata": {
    "colab": {
     "base_uri": "https://localhost:8080/"
    },
    "executionInfo": {
     "elapsed": 414,
     "status": "ok",
     "timestamp": 1734632010973,
     "user": {
      "displayName": "Baki Akgün",
      "userId": "11346145736492475173"
     },
     "user_tz": -180
    },
    "id": "K-7qUBZgo2xa",
    "outputId": "29d892fe-194b-4bd2-8529-4904dd31172e"
   },
   "outputs": [
    {
     "name": "stdout",
     "output_type": "stream",
     "text": [
      "Modeller başarıyla kaydedildi. Klasör: /content/drive/MyDrive/Colab Notebooks/TextGAN/\n"
     ]
    }
   ],
   "source": [
    "# Model kaydetme\n",
    "generator_path = \"/content/drive/MyDrive/Colab Notebooks/TextGAN/generator.pth\"\n",
    "discriminator_path = \"/content/drive/MyDrive/Colab Notebooks/TextGAN/discriminator.pth\"\n",
    "\n",
    "torch.save(generator.state_dict(), generator_path)\n",
    "torch.save(discriminator.state_dict(), discriminator_path)\n",
    "\n",
    "print(\"Modeller başarıyla kaydedildi. Klasör: /content/drive/MyDrive/Colab Notebooks/TextGAN/\")\n"
   ]
  },
  {
   "cell_type": "code",
   "execution_count": null,
   "metadata": {
    "id": "NefgUhRio3yb"
   },
   "outputs": [],
   "source": []
  }
 ],
 "metadata": {
  "accelerator": "GPU",
  "colab": {
   "gpuType": "A100",
   "machine_shape": "hm",
   "provenance": []
  },
  "kernelspec": {
   "display_name": "Python 3",
   "name": "python3"
  },
  "language_info": {
   "codemirror_mode": {
    "name": "ipython",
    "version": 3
   },
   "file_extension": ".py",
   "mimetype": "text/x-python",
   "name": "python",
   "nbconvert_exporter": "python",
   "pygments_lexer": "ipython3",
   "version": "3.11.7"
  }
 },
 "nbformat": 4,
 "nbformat_minor": 0
}
