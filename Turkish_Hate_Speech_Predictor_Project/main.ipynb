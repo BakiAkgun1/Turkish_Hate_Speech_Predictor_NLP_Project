{
 "cells": [
  {
   "cell_type": "markdown",
   "metadata": {
    "id": "cninmdgcLrm9"
   },
   "source": [
    "# Turkish Hate Speech Predictor On Twitter"
   ]
  },
  {
   "cell_type": "code",
   "execution_count": 2,
   "metadata": {
    "id": "wQfr2kvULrnA"
   },
   "outputs": [],
   "source": [
    "import pandas as pd"
   ]
  },
  {
   "cell_type": "code",
   "execution_count": null,
   "metadata": {
    "id": "Ed4eblawLrnB",
    "outputId": "2e10632f-b769-4639-aa67-5da81fea4ab1"
   },
   "outputs": [
    {
     "name": "stdout",
     "output_type": "stream",
     "text": [
      "Tüm sheet'ler,(Toplam hariç) ve bunların ilk 4 sütunu 'merged_data.csv' dosyasına kaydedildi.\n"
     ]
    }
   ],
   "source": [
    "\n",
    "\n",
    "data= pd.read_excel(\"data.xlsx\" , sheet_name = None)\n",
    "\n",
    "sheets_tO_save = {sheet_name: df for sheet_name, df in data.items() if sheet_name != \"TOPLAM\"}\n",
    "\n",
    "merged_data= pd.concat(sheets_tO_save.values(), ignore_index = True)\n",
    "\n",
    "merged_data = merged_data.iloc[:, :4]\n",
    "\n",
    "merged_data.to_csv(\"merged_data.csv\", index = True)\n",
    "\n",
    "print(\"Tüm sheet'ler,(Toplam hariç) ve bunların ilk 4 sütunu 'merged_data.csv' dosyasına kaydedildi.\")\n"
   ]
  },
  {
   "cell_type": "code",
   "execution_count": 25,
   "metadata": {
    "id": "HfFizrqHLrnC",
    "outputId": "bc81463e-4034-4325-fe60-708253b523aa"
   },
   "outputs": [
    {
     "data": {
      "text/html": [
       "<div>\n",
       "<style scoped>\n",
       "    .dataframe tbody tr th:only-of-type {\n",
       "        vertical-align: middle;\n",
       "    }\n",
       "\n",
       "    .dataframe tbody tr th {\n",
       "        vertical-align: top;\n",
       "    }\n",
       "\n",
       "    .dataframe thead th {\n",
       "        text-align: right;\n",
       "    }\n",
       "</style>\n",
       "<table border=\"1\" class=\"dataframe\">\n",
       "  <thead>\n",
       "    <tr style=\"text-align: right;\">\n",
       "      <th></th>\n",
       "      <th>Tweet</th>\n",
       "      <th>Etiket</th>\n",
       "    </tr>\n",
       "  </thead>\n",
       "  <tbody>\n",
       "    <tr>\n",
       "      <th>1</th>\n",
       "      <td>ya orospu cocuklari hepiniz niye ayni anda yaz...</td>\n",
       "      <td>nefret</td>\n",
       "    </tr>\n",
       "    <tr>\n",
       "      <th>2</th>\n",
       "      <td>Ciddiye alan tüm dünyanın beynini sileyim.. \\n...</td>\n",
       "      <td>saldırgan</td>\n",
       "    </tr>\n",
       "    <tr>\n",
       "      <th>3</th>\n",
       "      <td>Kayıtlı İstihdama geçiş programına göre (?)\\nŞ...</td>\n",
       "      <td>hiçbiri</td>\n",
       "    </tr>\n",
       "    <tr>\n",
       "      <th>4</th>\n",
       "      <td>Hastaneye git Suriyeli. PTT ye git Suriyeli. P...</td>\n",
       "      <td>nefret</td>\n",
       "    </tr>\n",
       "    <tr>\n",
       "      <th>5</th>\n",
       "      <td>Cölesi bitmiş suriyeli gibiyim bugün</td>\n",
       "      <td>hiçbiri</td>\n",
       "    </tr>\n",
       "  </tbody>\n",
       "</table>\n",
       "</div>"
      ],
      "text/plain": [
       "                                               Tweet     Etiket\n",
       "1  ya orospu cocuklari hepiniz niye ayni anda yaz...     nefret\n",
       "2  Ciddiye alan tüm dünyanın beynini sileyim.. \\n...  saldırgan\n",
       "3  Kayıtlı İstihdama geçiş programına göre (?)\\nŞ...    hiçbiri\n",
       "4  Hastaneye git Suriyeli. PTT ye git Suriyeli. P...     nefret\n",
       "5               Cölesi bitmiş suriyeli gibiyim bugün    hiçbiri"
      ]
     },
     "execution_count": 25,
     "metadata": {},
     "output_type": "execute_result"
    }
   ],
   "source": [
    "data= pd.read_csv(\"merged_data.csv\")\n",
    "\n",
    "\n",
    "data_cleaned = data.iloc[1:][['Unnamed: 1', 'SON ETİKET']]  \n",
    "data_cleaned.dropna(subset=['SON ETİKET'], inplace=True)  \n",
    "\n",
    "data_cleaned.rename(columns={'Unnamed: 1': 'Tweet', 'SON ETİKET': 'Etiket'}, inplace=True)\n",
    "\n",
    "data_cleaned.head()"
   ]
  },
  {
   "cell_type": "markdown",
   "metadata": {
    "id": "krlU6hteLrnC"
   },
   "source": [
    "## Data Preprocessing"
   ]
  },
  {
   "cell_type": "code",
   "execution_count": null,
   "metadata": {
    "colab": {
     "base_uri": "https://localhost:8080/"
    },
    "id": "54e1K86SRBSZ",
    "outputId": "e06a772c-81da-4b7c-fdcd-f14b2632bbcf"
   },
   "outputs": [
    {
     "name": "stdout",
     "output_type": "stream",
     "text": [
      "Requirement already satisfied: nltk in /usr/local/lib/python3.10/dist-packages (3.9.1)\n",
      "Requirement already satisfied: click in /usr/local/lib/python3.10/dist-packages (from nltk) (8.1.7)\n",
      "Requirement already satisfied: joblib in /usr/local/lib/python3.10/dist-packages (from nltk) (1.4.2)\n",
      "Requirement already satisfied: regex>=2021.8.3 in /usr/local/lib/python3.10/dist-packages (from nltk) (2024.9.11)\n",
      "Requirement already satisfied: tqdm in /usr/local/lib/python3.10/dist-packages (from nltk) (4.66.6)\n"
     ]
    }
   ],
   "source": [
    "pip install nltk"
   ]
  },
  {
   "cell_type": "code",
   "execution_count": 20,
   "metadata": {
    "colab": {
     "base_uri": "https://localhost:8080/"
    },
    "id": "JaZiafyRLrnC",
    "outputId": "a7b5c81c-4bd6-4fde-8509-bff5fcdc20a5"
   },
   "outputs": [
    {
     "name": "stderr",
     "output_type": "stream",
     "text": [
      "[nltk_data] Downloading package punkt to C:\\Users\\Baki\n",
      "[nltk_data]     Akgun\\AppData\\Roaming\\nltk_data...\n",
      "[nltk_data]   Package punkt is already up-to-date!\n",
      "[nltk_data] Downloading package stopwords to C:\\Users\\Baki\n",
      "[nltk_data]     Akgun\\AppData\\Roaming\\nltk_data...\n",
      "[nltk_data]   Package stopwords is already up-to-date!\n",
      "[nltk_data] Downloading package wordnet to C:\\Users\\Baki\n",
      "[nltk_data]     Akgun\\AppData\\Roaming\\nltk_data...\n",
      "[nltk_data]   Package wordnet is already up-to-date!\n"
     ]
    }
   ],
   "source": [
    "import pandas as pd\n",
    "import re\n",
    "import nltk\n",
    "from nltk.corpus import stopwords\n",
    "from nltk.tokenize import word_tokenize\n",
    "from nltk.stem import WordNetLemmatizer\n",
    "from sklearn.feature_extraction.text import CountVectorizer, TfidfVectorizer\n",
    "\n",
    "nltk.download('punkt')\n",
    "nltk.download('stopwords')\n",
    "nltk.download('wordnet')\n",
    "\n",
    "stop_words = set(stopwords.words('turkish'))\n",
    "lemmatizer = WordNetLemmatizer()\n"
   ]
  },
  {
   "cell_type": "code",
   "execution_count": 21,
   "metadata": {
    "colab": {
     "base_uri": "https://localhost:8080/"
    },
    "id": "gv11k4VkLrnD",
    "outputId": "39e4f6fd-667c-4695-98d8-1216dd22935a"
   },
   "outputs": [
    {
     "name": "stderr",
     "output_type": "stream",
     "text": [
      "[nltk_data] Downloading package punkt to C:\\Users\\Baki\n",
      "[nltk_data]     Akgun\\AppData\\Roaming\\nltk_data...\n",
      "[nltk_data]   Package punkt is already up-to-date!\n",
      "[nltk_data] Downloading package stopwords to C:\\Users\\Baki\n",
      "[nltk_data]     Akgun\\AppData\\Roaming\\nltk_data...\n",
      "[nltk_data]   Package stopwords is already up-to-date!\n",
      "[nltk_data] Downloading package wordnet to C:\\Users\\Baki\n",
      "[nltk_data]     Akgun\\AppData\\Roaming\\nltk_data...\n",
      "[nltk_data]   Package wordnet is already up-to-date!\n"
     ]
    }
   ],
   "source": [
    "nltk.download('punkt')\n",
    "nltk.download('stopwords')\n",
    "nltk.download('wordnet')\n",
    "\n",
    "stop_words = set(stopwords.words('turkish'))\n",
    "lemmatizer = WordNetLemmatizer()\n",
    "\n",
    "def clean_text(text):\n",
    "    text = re.sub\n"
   ]
  },
  {
   "cell_type": "code",
   "execution_count": 22,
   "metadata": {
    "id": "GpBPSsVVLrnD"
   },
   "outputs": [],
   "source": [
    "def clean_text(text):\n",
    "    text = re.sub(r\"http\\S+|www\\S+|https\\S+\", \"\", text)\n",
    "    text = re.sub(r\"@[\\w]+|#[\\w]+\", \"\", text)\n",
    "    text = re.sub(r\"[^a-zA-Z0-9ğüşöçİıĞŞÖÇ]\", \" \", text)\n",
    "    text = re.sub(r'\\s+', ' ', text).strip()\n",
    "\n",
    "    return text\n"
   ]
  },
  {
   "cell_type": "code",
   "execution_count": 23,
   "metadata": {
    "id": "R4vd_fUnLrnD"
   },
   "outputs": [],
   "source": [
    "def tokenize_and_clean(text):\n",
    "    # Metni kelimelere ayır\n",
    "    tokens = word_tokenize(text)\n",
    "\n",
    "    #Delete Stopwords and convert words to lower letter\n",
    "    tokens = [word.lower() for word in tokens if word.lower() not in stop_words]\n",
    "\n",
    "    # Lemmatization\n",
    "    tokens = [lemmatizer.lemmatize(word) for word in tokens]\n",
    "\n",
    "    return \" \".join(tokens)\n"
   ]
  },
  {
   "cell_type": "code",
   "execution_count": 26,
   "metadata": {
    "id": "2rcyNiyuLrnE"
   },
   "outputs": [
    {
     "name": "stdout",
     "output_type": "stream",
     "text": [
      "saved data as to data_cleaned.csv\n"
     ]
    },
    {
     "data": {
      "text/html": [
       "<div>\n",
       "<style scoped>\n",
       "    .dataframe tbody tr th:only-of-type {\n",
       "        vertical-align: middle;\n",
       "    }\n",
       "\n",
       "    .dataframe tbody tr th {\n",
       "        vertical-align: top;\n",
       "    }\n",
       "\n",
       "    .dataframe thead th {\n",
       "        text-align: right;\n",
       "    }\n",
       "</style>\n",
       "<table border=\"1\" class=\"dataframe\">\n",
       "  <thead>\n",
       "    <tr style=\"text-align: right;\">\n",
       "      <th></th>\n",
       "      <th>Tweet</th>\n",
       "      <th>Etiket</th>\n",
       "      <th>cleaned_tweet</th>\n",
       "    </tr>\n",
       "  </thead>\n",
       "  <tbody>\n",
       "    <tr>\n",
       "      <th>1</th>\n",
       "      <td>ya orospu cocuklari hepiniz niye ayni anda yaz...</td>\n",
       "      <td>nefret</td>\n",
       "      <td>orospu cocuklari hepiniz ayni anda yaziyonuz t...</td>\n",
       "    </tr>\n",
       "    <tr>\n",
       "      <th>2</th>\n",
       "      <td>Ciddiye alan tüm dünyanın beynini sileyim.. \\n...</td>\n",
       "      <td>saldırgan</td>\n",
       "      <td>ciddiye alan dünyanın beynini sileyim işi gücü...</td>\n",
       "    </tr>\n",
       "    <tr>\n",
       "      <th>3</th>\n",
       "      <td>Kayıtlı İstihdama geçiş programına göre (?)\\nŞ...</td>\n",
       "      <td>hiçbiri</td>\n",
       "      <td>kayıtlı i̇stihdama geçiş programına göre şimdi...</td>\n",
       "    </tr>\n",
       "    <tr>\n",
       "      <th>4</th>\n",
       "      <td>Hastaneye git Suriyeli. PTT ye git Suriyeli. P...</td>\n",
       "      <td>nefret</td>\n",
       "      <td>hastaneye git suriyeli ptt ye git suriyeli pla...</td>\n",
       "    </tr>\n",
       "    <tr>\n",
       "      <th>5</th>\n",
       "      <td>Cölesi bitmiş suriyeli gibiyim bugün</td>\n",
       "      <td>hiçbiri</td>\n",
       "      <td>cölesi bitmiş suriyeli gibiyim bugün</td>\n",
       "    </tr>\n",
       "    <tr>\n",
       "      <th>6</th>\n",
       "      <td>Çocuklar sadece Türkiye'de değil #Irak ve #Sur...</td>\n",
       "      <td>hiçbiri</td>\n",
       "      <td>çocuklar sadece türkiye değil terör örgütlerin...</td>\n",
       "    </tr>\n",
       "    <tr>\n",
       "      <th>7</th>\n",
       "      <td>Suriyeli olduğunuzu biliyorduk 😝 https://t.co/...</td>\n",
       "      <td>hiçbiri</td>\n",
       "      <td>suriyeli olduğunuzu biliyorduk</td>\n",
       "    </tr>\n",
       "    <tr>\n",
       "      <th>8</th>\n",
       "      <td>Keşke sadece Suriyeli çalıştıran işverene teşv...</td>\n",
       "      <td>hiçbiri</td>\n",
       "      <td>keşke sadece suriyeli çalıştıran işverene teşv...</td>\n",
       "    </tr>\n",
       "    <tr>\n",
       "      <th>9</th>\n",
       "      <td>Sizin suriyeli, afgan, pakistanlı politikanıza...</td>\n",
       "      <td>hiçbiri</td>\n",
       "      <td>sizin suriyeli afgan pakistanlı politikanıza n...</td>\n",
       "    </tr>\n",
       "    <tr>\n",
       "      <th>10</th>\n",
       "      <td>Ülkemde (büyükelçi dahil) Suriyeli istemiyorum.</td>\n",
       "      <td>nefret</td>\n",
       "      <td>lkemde büyükelçi dahil suriyeli istemiyorum</td>\n",
       "    </tr>\n",
       "  </tbody>\n",
       "</table>\n",
       "</div>"
      ],
      "text/plain": [
       "                                                Tweet     Etiket  \\\n",
       "1   ya orospu cocuklari hepiniz niye ayni anda yaz...     nefret   \n",
       "2   Ciddiye alan tüm dünyanın beynini sileyim.. \\n...  saldırgan   \n",
       "3   Kayıtlı İstihdama geçiş programına göre (?)\\nŞ...    hiçbiri   \n",
       "4   Hastaneye git Suriyeli. PTT ye git Suriyeli. P...     nefret   \n",
       "5                Cölesi bitmiş suriyeli gibiyim bugün    hiçbiri   \n",
       "6   Çocuklar sadece Türkiye'de değil #Irak ve #Sur...    hiçbiri   \n",
       "7   Suriyeli olduğunuzu biliyorduk 😝 https://t.co/...    hiçbiri   \n",
       "8   Keşke sadece Suriyeli çalıştıran işverene teşv...    hiçbiri   \n",
       "9   Sizin suriyeli, afgan, pakistanlı politikanıza...    hiçbiri   \n",
       "10    Ülkemde (büyükelçi dahil) Suriyeli istemiyorum.     nefret   \n",
       "\n",
       "                                        cleaned_tweet  \n",
       "1   orospu cocuklari hepiniz ayni anda yaziyonuz t...  \n",
       "2   ciddiye alan dünyanın beynini sileyim işi gücü...  \n",
       "3   kayıtlı i̇stihdama geçiş programına göre şimdi...  \n",
       "4   hastaneye git suriyeli ptt ye git suriyeli pla...  \n",
       "5                cölesi bitmiş suriyeli gibiyim bugün  \n",
       "6   çocuklar sadece türkiye değil terör örgütlerin...  \n",
       "7                      suriyeli olduğunuzu biliyorduk  \n",
       "8   keşke sadece suriyeli çalıştıran işverene teşv...  \n",
       "9   sizin suriyeli afgan pakistanlı politikanıza n...  \n",
       "10        lkemde büyükelçi dahil suriyeli istemiyorum  "
      ]
     },
     "execution_count": 26,
     "metadata": {},
     "output_type": "execute_result"
    }
   ],
   "source": [
    "\n",
    "data_cleaned['cleaned_tweet'] = data_cleaned['Tweet'].apply(lambda x: clean_text(x))\n",
    "data_cleaned['cleaned_tweet'] = data_cleaned['cleaned_tweet'].apply(lambda x: tokenize_and_clean(x))\n",
    "data_cleaned.to_csv('data_cleaned.csv', index=False, encoding='utf-8')\n",
    "print(\"saved data as to data_cleaned.csv\")\n",
    "data_cleaned.head(10)"
   ]
  },
  {
   "cell_type": "markdown",
   "metadata": {
    "id": "MBYoVKl9LrnE"
   },
   "source": [
    "#### Countvectorizer and TfidfVectorizer Proccess"
   ]
  },
  {
   "cell_type": "code",
   "execution_count": 27,
   "metadata": {
    "colab": {
     "base_uri": "https://localhost:8080/"
    },
    "id": "XYrTbmiPLrnE",
    "outputId": "2c142930-a5d9-418d-b5a5-46f45813a0ae"
   },
   "outputs": [
    {
     "name": "stdout",
     "output_type": "stream",
     "text": [
      "(10245, 213372)\n",
      "(10245, 213372)\n"
     ]
    }
   ],
   "source": [
    "# Unigram ve Bigram için CountVectorizer kullanımı\n",
    "\n",
    "data_cleaned['cleaned_tweet'] = data_cleaned['cleaned_tweet'].fillna('')\n",
    "\n",
    "vectorizer = CountVectorizer(ngram_range=(1, 2))  # unigram ve bigram\n",
    "X_count = vectorizer.fit_transform(data_cleaned['cleaned_tweet'])\n",
    "\n",
    "print(X_count.shape)  # (Örnek sayısı, kelime sayısı)\n",
    "\n",
    "\n",
    "tfidf_vectorizer = TfidfVectorizer(ngram_range=(1, 2))\n",
    "X_tfidf = tfidf_vectorizer.fit_transform(data_cleaned['cleaned_tweet'])\n",
    "\n",
    "print(X_tfidf.shape)  # (Örnek sayısı, kelime sayısı)\n"
   ]
  },
  {
   "cell_type": "code",
   "execution_count": 28,
   "metadata": {
    "colab": {
     "base_uri": "https://localhost:8080/"
    },
    "id": "XOhtI2jFLrnE",
    "outputId": "0511d518-cecb-4f64-87b5-2373c3b2e367"
   },
   "outputs": [
    {
     "name": "stdout",
     "output_type": "stream",
     "text": [
      "Eğitim verisi boyutu: (8196, 213372)\n",
      "Test verisi boyutu: (2049, 213372)\n"
     ]
    }
   ],
   "source": [
    "from sklearn.model_selection import train_test_split\n",
    "\n",
    "# 'Etiket' kolonu hedef değişken olacak\n",
    "y = data_cleaned['Etiket']\n",
    "\n",
    "# Eğitim ve test setlerine ayır\n",
    "X_train, X_test, y_train, y_test = train_test_split(X_tfidf, y, test_size=0.2, random_state=42)\n",
    "\n",
    "print(\"Eğitim verisi boyutu:\", X_train.shape)\n",
    "print(\"Test verisi boyutu:\", X_test.shape)\n",
    "\n"
   ]
  },
  {
   "cell_type": "markdown",
   "metadata": {
    "id": "IlsAz8FJR6tX"
   },
   "source": [
    "## Modals"
   ]
  },
  {
   "cell_type": "code",
   "execution_count": null,
   "metadata": {
    "colab": {
     "base_uri": "https://localhost:8080/"
    },
    "id": "P_gdgnjvTDP1",
    "outputId": "1b91a865-d8ec-4798-efa7-65b8f34858c2"
   },
   "outputs": [
    {
     "name": "stdout",
     "output_type": "stream",
     "text": [
      "Collecting catboost\n",
      "  Downloading catboost-1.2.7-cp310-cp310-manylinux2014_x86_64.whl.metadata (1.2 kB)\n",
      "Requirement already satisfied: graphviz in /usr/local/lib/python3.10/dist-packages (from catboost) (0.20.3)\n",
      "Requirement already satisfied: matplotlib in /usr/local/lib/python3.10/dist-packages (from catboost) (3.8.0)\n",
      "Requirement already satisfied: numpy<2.0,>=1.16.0 in /usr/local/lib/python3.10/dist-packages (from catboost) (1.26.4)\n",
      "Requirement already satisfied: pandas>=0.24 in /usr/local/lib/python3.10/dist-packages (from catboost) (2.2.2)\n",
      "Requirement already satisfied: scipy in /usr/local/lib/python3.10/dist-packages (from catboost) (1.13.1)\n",
      "Requirement already satisfied: plotly in /usr/local/lib/python3.10/dist-packages (from catboost) (5.24.1)\n",
      "Requirement already satisfied: six in /usr/local/lib/python3.10/dist-packages (from catboost) (1.16.0)\n",
      "Requirement already satisfied: python-dateutil>=2.8.2 in /usr/local/lib/python3.10/dist-packages (from pandas>=0.24->catboost) (2.8.2)\n",
      "Requirement already satisfied: pytz>=2020.1 in /usr/local/lib/python3.10/dist-packages (from pandas>=0.24->catboost) (2024.2)\n",
      "Requirement already satisfied: tzdata>=2022.7 in /usr/local/lib/python3.10/dist-packages (from pandas>=0.24->catboost) (2024.2)\n",
      "Requirement already satisfied: contourpy>=1.0.1 in /usr/local/lib/python3.10/dist-packages (from matplotlib->catboost) (1.3.1)\n",
      "Requirement already satisfied: cycler>=0.10 in /usr/local/lib/python3.10/dist-packages (from matplotlib->catboost) (0.12.1)\n",
      "Requirement already satisfied: fonttools>=4.22.0 in /usr/local/lib/python3.10/dist-packages (from matplotlib->catboost) (4.55.0)\n",
      "Requirement already satisfied: kiwisolver>=1.0.1 in /usr/local/lib/python3.10/dist-packages (from matplotlib->catboost) (1.4.7)\n",
      "Requirement already satisfied: packaging>=20.0 in /usr/local/lib/python3.10/dist-packages (from matplotlib->catboost) (24.2)\n",
      "Requirement already satisfied: pillow>=6.2.0 in /usr/local/lib/python3.10/dist-packages (from matplotlib->catboost) (11.0.0)\n",
      "Requirement already satisfied: pyparsing>=2.3.1 in /usr/local/lib/python3.10/dist-packages (from matplotlib->catboost) (3.2.0)\n",
      "Requirement already satisfied: tenacity>=6.2.0 in /usr/local/lib/python3.10/dist-packages (from plotly->catboost) (9.0.0)\n",
      "Downloading catboost-1.2.7-cp310-cp310-manylinux2014_x86_64.whl (98.7 MB)\n",
      "\u001b[2K   \u001b[90m━━━━━━━━━━━━━━━━━━━━━━━━━━━━━━━━━━━━━━━━\u001b[0m \u001b[32m98.7/98.7 MB\u001b[0m \u001b[31m5.9 MB/s\u001b[0m eta \u001b[36m0:00:00\u001b[0m\n",
      "\u001b[?25hInstalling collected packages: catboost\n",
      "Successfully installed catboost-1.2.7\n"
     ]
    }
   ],
   "source": [
    "pip install catboost"
   ]
  },
  {
   "cell_type": "code",
   "execution_count": null,
   "metadata": {
    "id": "RyXSiHATTBR5"
   },
   "outputs": [],
   "source": [
    "import pandas as pd\n",
    "from sklearn.metrics import accuracy_score, classification_report\n",
    "from sklearn.ensemble import GradientBoostingClassifier, RandomForestClassifier\n",
    "from catboost import CatBoostClassifier\n",
    "from xgboost import XGBClassifier\n",
    "from tensorflow.keras.models import Sequential\n",
    "from tensorflow.keras.layers import Dense\n",
    "from tensorflow.keras.optimizers import Adam\n",
    "from tensorflow.keras import metrics"
   ]
  },
  {
   "cell_type": "code",
   "execution_count": null,
   "metadata": {
    "id": "neNcJUcaTegd"
   },
   "outputs": [],
   "source": [
    "\n",
    "# Model Eğitim Fonksiyonu\n",
    "def get_classification_metrics(y_true, y_pred):\n",
    "    acc = accuracy_score(y_true, y_pred)\n",
    "    class_report = classification_report(y_true, y_pred, output_dict=True)\n",
    "    return acc, class_report['weighted avg']['precision'], class_report['weighted avg']['recall'], class_report['weighted avg']['f1-score']\n"
   ]
  },
  {
   "cell_type": "code",
   "execution_count": null,
   "metadata": {
    "colab": {
     "base_uri": "https://localhost:8080/"
    },
    "id": "2s33n9NlR-l5",
    "outputId": "cda6a358-e168-4cd5-b11b-f5d25ee2fe77"
   },
   "outputs": [
    {
     "name": "stdout",
     "output_type": "stream",
     "text": [
      "Random Forest Modeli:\n",
      "Doğruluk Skoru: 0.7867252318204002\n",
      "Sınıflandırma Raporu:\n",
      "              precision    recall  f1-score   support\n",
      "\n",
      "           0       1.00      1.00      1.00         6\n",
      "           1       0.78      1.00      0.88      1526\n",
      "           2       0.87      0.18      0.30       477\n",
      "           3       0.00      0.00      0.00        40\n",
      "\n",
      "    accuracy                           0.79      2049\n",
      "   macro avg       0.66      0.54      0.54      2049\n",
      "weighted avg       0.79      0.79      0.72      2049\n",
      "\n",
      "Confusion Matrix:\n",
      "[[   6    0    0    0]\n",
      " [   0 1520    6    0]\n",
      " [   0  391   86    0]\n",
      " [   0   33    7    0]]\n"
     ]
    },
    {
     "name": "stderr",
     "output_type": "stream",
     "text": [
      "/usr/local/lib/python3.10/dist-packages/sklearn/metrics/_classification.py:1531: UndefinedMetricWarning: Precision is ill-defined and being set to 0.0 in labels with no predicted samples. Use `zero_division` parameter to control this behavior.\n",
      "  _warn_prf(average, modifier, f\"{metric.capitalize()} is\", len(result))\n",
      "/usr/local/lib/python3.10/dist-packages/sklearn/metrics/_classification.py:1531: UndefinedMetricWarning: Precision is ill-defined and being set to 0.0 in labels with no predicted samples. Use `zero_division` parameter to control this behavior.\n",
      "  _warn_prf(average, modifier, f\"{metric.capitalize()} is\", len(result))\n",
      "/usr/local/lib/python3.10/dist-packages/sklearn/metrics/_classification.py:1531: UndefinedMetricWarning: Precision is ill-defined and being set to 0.0 in labels with no predicted samples. Use `zero_division` parameter to control this behavior.\n",
      "  _warn_prf(average, modifier, f\"{metric.capitalize()} is\", len(result))\n",
      "/usr/local/lib/python3.10/dist-packages/sklearn/metrics/_classification.py:1531: UndefinedMetricWarning: Precision is ill-defined and being set to 0.0 in labels with no predicted samples. Use `zero_division` parameter to control this behavior.\n",
      "  _warn_prf(average, modifier, f\"{metric.capitalize()} is\", len(result))\n",
      "/usr/local/lib/python3.10/dist-packages/sklearn/metrics/_classification.py:1531: UndefinedMetricWarning: Precision is ill-defined and being set to 0.0 in labels with no predicted samples. Use `zero_division` parameter to control this behavior.\n",
      "  _warn_prf(average, modifier, f\"{metric.capitalize()} is\", len(result))\n",
      "/usr/local/lib/python3.10/dist-packages/sklearn/metrics/_classification.py:1531: UndefinedMetricWarning: Precision is ill-defined and being set to 0.0 in labels with no predicted samples. Use `zero_division` parameter to control this behavior.\n",
      "  _warn_prf(average, modifier, f\"{metric.capitalize()} is\", len(result))\n"
     ]
    }
   ],
   "source": [
    "\n",
    "# Random Forest Modeli\n",
    "rf_model = RandomForestClassifier(n_estimators=100, random_state=42)\n",
    "rf_model.fit(X_train, y_train)\n",
    "y_pred_rf = rf_model.predict(X_test)\n",
    "rf_acc, rf_precision, rf_recall, rf_f1 = get_classification_metrics(y_test, y_pred_rf)\n",
    "\n",
    "print(\"Random Forest Modeli:\")\n",
    "print(\"Doğruluk Skoru:\", accuracy_score(y_test, y_pred_rf))\n",
    "print(\"Sınıflandırma Raporu:\")\n",
    "print(classification_report(y_test, y_pred_rf))\n",
    "print(\"Confusion Matrix:\")\n",
    "print(confusion_matrix(y_test, y_pred_rf))"
   ]
  },
  {
   "cell_type": "code",
   "execution_count": null,
   "metadata": {
    "colab": {
     "base_uri": "https://localhost:8080/"
    },
    "id": "Sjyr0LgZR-g1",
    "outputId": "aaea263b-abe3-4b5c-dcfe-18df6b963cfb"
   },
   "outputs": [
    {
     "name": "stdout",
     "output_type": "stream",
     "text": [
      "Gradient Boosting Modeli:\n",
      "Doğruluk Skoru: 0.7920937042459737\n",
      "Sınıflandırma Raporu:\n",
      "              precision    recall  f1-score   support\n",
      "\n",
      "           0       1.00      1.00      1.00         6\n",
      "           1       0.80      0.99      0.88      1526\n",
      "           2       0.83      0.22      0.35       477\n",
      "           3       0.27      0.17      0.21        40\n",
      "\n",
      "    accuracy                           0.79      2049\n",
      "   macro avg       0.72      0.60      0.61      2049\n",
      "weighted avg       0.79      0.79      0.74      2049\n",
      "\n",
      "Confusion Matrix:\n",
      "[[   6    0    0    0]\n",
      " [   0 1504   13    9]\n",
      " [   0  361  106   10]\n",
      " [   0   24    9    7]]\n"
     ]
    }
   ],
   "source": [
    "\n",
    "# GBM Modeli\n",
    "gbm_model = GradientBoostingClassifier(n_estimators=100, random_state=42)\n",
    "gbm_model.fit(X_train, y_train)\n",
    "y_pred_gbm = gbm_model.predict(X_test)\n",
    "gbm_acc, gbm_precision, gbm_recall, gbm_f1 = get_classification_metrics(y_test, y_pred_gbm)\n",
    "\n",
    "print(\"Gradient Boosting Modeli:\")\n",
    "print(\"Doğruluk Skoru:\", accuracy_score(y_test, y_pred_gbm))\n",
    "print(\"Sınıflandırma Raporu:\")\n",
    "print(classification_report(y_test, y_pred_gbm))\n",
    "print(\"Confusion Matrix:\")\n",
    "print(confusion_matrix(y_test, y_pred_gbm))\n"
   ]
  },
  {
   "cell_type": "code",
   "execution_count": null,
   "metadata": {
    "colab": {
     "base_uri": "https://localhost:8080/"
    },
    "id": "nC00jHtXR-jh",
    "outputId": "a84408a4-18ed-4bfb-dddb-da3a7ac2ad94"
   },
   "outputs": [
    {
     "name": "stdout",
     "output_type": "stream",
     "text": [
      "XGBoost Modeli:\n",
      "Doğruluk Skoru: 0.8208882381649585\n",
      "Sınıflandırma Raporu:\n",
      "              precision    recall  f1-score   support\n",
      "\n",
      "           0       1.00      1.00      1.00         6\n",
      "           1       0.82      0.98      0.89      1526\n",
      "           2       0.80      0.36      0.50       477\n",
      "           3       0.62      0.25      0.36        40\n",
      "\n",
      "    accuracy                           0.82      2049\n",
      "   macro avg       0.81      0.65      0.69      2049\n",
      "weighted avg       0.82      0.82      0.79      2049\n",
      "\n",
      "Confusion Matrix:\n",
      "[[   6    0    0    0]\n",
      " [   0 1492   34    0]\n",
      " [   0  297  174    6]\n",
      " [   0   21    9   10]]\n"
     ]
    }
   ],
   "source": [
    "# XGBoost Modeli\n",
    "xgb_model = XGBClassifier(n_estimators=100, random_state=42)\n",
    "xgb_model.fit(X_train, y_train)\n",
    "y_pred_xgb = xgb_model.predict(X_test)\n",
    "xgb_acc, xgb_precision, xgb_recall, xgb_f1 = get_classification_metrics(y_test, y_pred_xgb)\n",
    "\n",
    "print(\"XGBoost Modeli:\")\n",
    "print(\"Doğruluk Skoru:\", accuracy_score(y_test, y_pred_xgb))\n",
    "print(\"Sınıflandırma Raporu:\")\n",
    "print(classification_report(y_test, y_pred_xgb))\n",
    "print(\"Confusion Matrix:\")\n",
    "print(confusion_matrix(y_test, y_pred_xgb))"
   ]
  },
  {
   "cell_type": "code",
   "execution_count": null,
   "metadata": {
    "id": "XV7UUKK4SFPr"
   },
   "outputs": [],
   "source": [
    "# CatBoost Modeli\n",
    "catboost_model = CatBoostClassifier(iterations=20, learning_rate=0.05, depth=10, random_state=42, verbose=200)\n",
    "catboost_model.fit(X_train, y_train)\n",
    "y_pred_catboost = catboost_model.predict(X_test)\n",
    "catboost_acc, catboost_precision, catboost_recall, catboost_f1 = get_classification_metrics(y_test, y_pred_catboost)\n"
   ]
  },
  {
   "cell_type": "code",
   "execution_count": null,
   "metadata": {
    "colab": {
     "base_uri": "https://localhost:8080/"
    },
    "id": "nfX8X9bHfHQX",
    "outputId": "6b9db9d3-7093-4c1c-e0ed-2d431e1f581c"
   },
   "outputs": [
    {
     "name": "stdout",
     "output_type": "stream",
     "text": [
      "CatBoost Modeli:\n",
      "Doğruluk Skoru: 0.7447535383113714\n",
      "Sınıflandırma Raporu:\n",
      "              precision    recall  f1-score   support\n",
      "\n",
      "           0       0.00      0.00      0.00         6\n",
      "           1       0.74      1.00      0.85      1526\n",
      "           2       0.00      0.00      0.00       477\n",
      "           3       0.00      0.00      0.00        40\n",
      "\n",
      "    accuracy                           0.74      2049\n",
      "   macro avg       0.19      0.25      0.21      2049\n",
      "weighted avg       0.55      0.74      0.64      2049\n",
      "\n",
      "Confusion Matrix:\n",
      "[[   0    6    0    0]\n",
      " [   0 1526    0    0]\n",
      " [   0  477    0    0]\n",
      " [   0   40    0    0]]\n"
     ]
    },
    {
     "name": "stderr",
     "output_type": "stream",
     "text": [
      "/usr/local/lib/python3.10/dist-packages/sklearn/metrics/_classification.py:1531: UndefinedMetricWarning: Precision is ill-defined and being set to 0.0 in labels with no predicted samples. Use `zero_division` parameter to control this behavior.\n",
      "  _warn_prf(average, modifier, f\"{metric.capitalize()} is\", len(result))\n",
      "/usr/local/lib/python3.10/dist-packages/sklearn/metrics/_classification.py:1531: UndefinedMetricWarning: Precision is ill-defined and being set to 0.0 in labels with no predicted samples. Use `zero_division` parameter to control this behavior.\n",
      "  _warn_prf(average, modifier, f\"{metric.capitalize()} is\", len(result))\n",
      "/usr/local/lib/python3.10/dist-packages/sklearn/metrics/_classification.py:1531: UndefinedMetricWarning: Precision is ill-defined and being set to 0.0 in labels with no predicted samples. Use `zero_division` parameter to control this behavior.\n",
      "  _warn_prf(average, modifier, f\"{metric.capitalize()} is\", len(result))\n"
     ]
    }
   ],
   "source": [
    "# Sonuçları değerlendirme\n",
    "print(\"CatBoost Modeli:\")\n",
    "print(\"Doğruluk Skoru:\", accuracy_score(y_test, y_pred_catboost))\n",
    "print(\"Sınıflandırma Raporu:\")\n",
    "print(classification_report(y_test, y_pred_catboost))\n",
    "print(\"Confusion Matrix:\")\n",
    "print(confusion_matrix(y_test, y_pred_catboost))"
   ]
  },
  {
   "cell_type": "code",
   "execution_count": null,
   "metadata": {
    "id": "yUQiPLhhUCNf"
   },
   "outputs": [],
   "source": [
    "from sklearn.preprocessing import LabelEncoder\n",
    "\n",
    "encoder = LabelEncoder()\n",
    "y_train = encoder.fit_transform(y_train)\n",
    "y_test = encoder.transform(y_test)\n"
   ]
  },
  {
   "cell_type": "code",
   "execution_count": null,
   "metadata": {
    "colab": {
     "base_uri": "https://localhost:8080/",
     "height": 1000
    },
    "id": "KLhRzpGkLrnF",
    "outputId": "8fd864c6-8b66-4cd3-b9da-4d73df46509d"
   },
   "outputs": [
    {
     "name": "stdout",
     "output_type": "stream",
     "text": [
      "Epoch 1/5\n",
      "\u001b[1m129/129\u001b[0m \u001b[32m━━━━━━━━━━━━━━━━━━━━\u001b[0m\u001b[37m\u001b[0m \u001b[1m82s\u001b[0m 610ms/step - accuracy: 0.7335 - auc_3: 0.4115 - loss: 0.2509 - val_accuracy: 0.7448 - val_auc_3: 1.0000 - val_loss: -2.1657\n",
      "Epoch 2/5\n",
      "\u001b[1m129/129\u001b[0m \u001b[32m━━━━━━━━━━━━━━━━━━━━\u001b[0m\u001b[37m\u001b[0m \u001b[1m59s\u001b[0m 433ms/step - accuracy: 0.7547 - auc_3: 0.6972 - loss: -4.6780 - val_accuracy: 0.7448 - val_auc_3: 0.5000 - val_loss: -18.0800\n",
      "Epoch 3/5\n",
      "\u001b[1m129/129\u001b[0m \u001b[32m━━━━━━━━━━━━━━━━━━━━\u001b[0m\u001b[37m\u001b[0m \u001b[1m65s\u001b[0m 499ms/step - accuracy: 0.7495 - auc_3: 0.5000 - loss: -31.1149 - val_accuracy: 0.7448 - val_auc_3: 0.5000 - val_loss: -75.4306\n",
      "Epoch 4/5\n",
      "\u001b[1m129/129\u001b[0m \u001b[32m━━━━━━━━━━━━━━━━━━━━\u001b[0m\u001b[37m\u001b[0m \u001b[1m76s\u001b[0m 454ms/step - accuracy: 0.7435 - auc_3: 0.4692 - loss: -113.3745 - val_accuracy: 0.7448 - val_auc_3: 0.5000 - val_loss: -199.1818\n",
      "Epoch 5/5\n",
      "\u001b[1m129/129\u001b[0m \u001b[32m━━━━━━━━━━━━━━━━━━━━\u001b[0m\u001b[37m\u001b[0m \u001b[1m82s\u001b[0m 452ms/step - accuracy: 0.7595 - auc_3: 0.4808 - loss: -269.1892 - val_accuracy: 0.7448 - val_auc_3: 0.5000 - val_loss: -411.9720\n"
     ]
    },
    {
     "data": {
      "image/png": "[encoded data removed]",
      "text/plain": [
       "<Figure size 640x480 with 1 Axes>"
      ]
     },
     "metadata": {},
     "output_type": "display_data"
    },
    {
     "name": "stdout",
     "output_type": "stream",
     "text": [
      "\u001b[1m65/65\u001b[0m \u001b[32m━━━━━━━━━━━━━━━━━━━━\u001b[0m\u001b[37m\u001b[0m \u001b[1m2s\u001b[0m 35ms/step\n",
      "ANN Modeli:\n",
      "Doğruluk Skoru: 0.7447535383113714\n",
      "Sınıflandırma Raporu:\n",
      "              precision    recall  f1-score   support\n",
      "\n",
      "           0       0.00      0.00      0.00         6\n",
      "           1       0.74      1.00      0.85      1526\n",
      "           2       0.00      0.00      0.00       477\n",
      "           3       0.00      0.00      0.00        40\n",
      "\n",
      "    accuracy                           0.74      2049\n",
      "   macro avg       0.19      0.25      0.21      2049\n",
      "weighted avg       0.55      0.74      0.64      2049\n",
      "\n",
      "Confusion Matrix:\n",
      "[[   0    6    0    0]\n",
      " [   0 1526    0    0]\n",
      " [   0  477    0    0]\n",
      " [   0   40    0    0]]\n"
     ]
    },
    {
     "name": "stderr",
     "output_type": "stream",
     "text": [
      "/usr/local/lib/python3.10/dist-packages/sklearn/metrics/_classification.py:1531: UndefinedMetricWarning: Precision is ill-defined and being set to 0.0 in labels with no predicted samples. Use `zero_division` parameter to control this behavior.\n",
      "  _warn_prf(average, modifier, f\"{metric.capitalize()} is\", len(result))\n",
      "/usr/local/lib/python3.10/dist-packages/sklearn/metrics/_classification.py:1531: UndefinedMetricWarning: Precision is ill-defined and being set to 0.0 in labels with no predicted samples. Use `zero_division` parameter to control this behavior.\n",
      "  _warn_prf(average, modifier, f\"{metric.capitalize()} is\", len(result))\n",
      "/usr/local/lib/python3.10/dist-packages/sklearn/metrics/_classification.py:1531: UndefinedMetricWarning: Precision is ill-defined and being set to 0.0 in labels with no predicted samples. Use `zero_division` parameter to control this behavior.\n",
      "  _warn_prf(average, modifier, f\"{metric.capitalize()} is\", len(result))\n",
      "/usr/local/lib/python3.10/dist-packages/sklearn/metrics/_classification.py:1531: UndefinedMetricWarning: Precision is ill-defined and being set to 0.0 in labels with no predicted samples. Use `zero_division` parameter to control this behavior.\n",
      "  _warn_prf(average, modifier, f\"{metric.capitalize()} is\", len(result))\n",
      "/usr/local/lib/python3.10/dist-packages/sklearn/metrics/_classification.py:1531: UndefinedMetricWarning: Precision is ill-defined and being set to 0.0 in labels with no predicted samples. Use `zero_division` parameter to control this behavior.\n",
      "  _warn_prf(average, modifier, f\"{metric.capitalize()} is\", len(result))\n",
      "/usr/local/lib/python3.10/dist-packages/sklearn/metrics/_classification.py:1531: UndefinedMetricWarning: Precision is ill-defined and being set to 0.0 in labels with no predicted samples. Use `zero_division` parameter to control this behavior.\n",
      "  _warn_prf(average, modifier, f\"{metric.capitalize()} is\", len(result))\n"
     ]
    }
   ],
   "source": [
    "import matplotlib.pyplot as plt\n",
    "from tensorflow.keras.models import Sequential\n",
    "from tensorflow.keras.layers import Dense\n",
    "from tensorflow.keras.optimizers import Adam\n",
    "from tensorflow.keras import metrics\n",
    "\n",
    "# ANN Modeli\n",
    "ann_model = Sequential()\n",
    "ann_model.add(Dense(64, input_dim=X_train.shape[1], activation='relu'))\n",
    "ann_model.add(Dense(32, activation='relu'))\n",
    "ann_model.add(Dense(1, activation='sigmoid'))\n",
    "\n",
    "# Modeli derle\n",
    "ann_model.compile(optimizer=Adam(), loss='binary_crossentropy', metrics=[metrics.AUC(), 'accuracy'])\n",
    "\n",
    "# Modeli eğitim verisiyle eğit\n",
    "history = ann_model.fit(X_train, y_train, epochs=10, batch_size=64, validation_data=(X_test, y_test))\n",
    "\n",
    "# Eğitim ve doğrulama kayıplarını görselleştir\n",
    "plt.plot(history.history['loss'], label='Train Loss')\n",
    "plt.plot(history.history['val_loss'], label='Validation Loss')\n",
    "plt.title('Train vs Validation Loss')\n",
    "plt.xlabel('Epochs')\n",
    "plt.ylabel('Loss')\n",
    "plt.legend()\n",
    "plt.show()\n",
    "\n",
    "# Test verisiyle tahmin yap\n",
    "y_pred_ann = (ann_model.predict(X_test) > 0.5).astype(int)\n",
    "\n",
    "# Sonuçları değerlendirme\n",
    "ann_acc, ann_precision, ann_recall, ann_f1 = get_classification_metrics(y_test, y_pred_ann)\n",
    "\n",
    "print(\"ANN Modeli:\") \n",
    "print(\"Doğruluk Skoru:\", accuracy_score(y_test, y_pred_ann))\n",
    "print(\"Sınıflandırma Raporu:\")\n",
    "print(classification_report(y_test, y_pred_ann))\n",
    "print(\"Confusion Matrix:\")\n",
    "print(confusion_matrix(y_test, y_pred_ann))\n"
   ]
  },
  {
   "cell_type": "code",
   "execution_count": null,
   "metadata": {},
   "outputs": [],
   "source": [
    "import pandas as pd\n",
    "import numpy as np\n",
    "from sklearn.feature_extraction.text import TfidfVectorizer\n",
    "from sklearn.model_selection import train_test_split\n",
    "from sklearn.decomposition import PCA\n",
    "from sklearn.preprocessing import LabelEncoder\n",
    "from sklearn.metrics import accuracy_score, precision_score, recall_score, f1_score, classification_report, confusion_matrix\n",
    "import matplotlib.pyplot as plt\n",
    "from tensorflow.keras.models import Sequential\n",
    "from tensorflow.keras.layers import Dense\n",
    "from tensorflow.keras.optimizers import Adam\n",
    "from tensorflow.keras import metrics\n",
    "\n",
    "# PCA İşlemini Gerçekleştirme\n",
    "def apply_pca(X, n_components=50):\n",
    "    pca = PCA(n_components=n_components)\n",
    "    X_reduced = pca.fit_transform(X.toarray())  # Sparse matris yoğun matrise çevrildi\n",
    "    return X_reduced\n",
    "\n",
    "# Performans Değerlendirme Fonksiyonu\n",
    "def get_classification_metrics(y_true, y_pred):\n",
    "    acc = accuracy_score(y_true, y_pred)\n",
    "    prec = precision_score(y_true, y_pred, average='weighted', zero_division=0)\n",
    "    rec = recall_score(y_true, y_pred, average='weighted', zero_division=0)\n",
    "    f1 = f1_score(y_true, y_pred, average='weighted', zero_division=0)\n",
    "    return acc, prec, rec, f1\n",
    "\n",
    "# Veriyi Okuma ve Ön İşleme\n",
    "data = pd.read_csv(\"data_cleaned.csv\")\n",
    "X = data['cleaned_tweet']\n",
    "y = data['Etiket']\n",
    "\n",
    "# Vektörleştirme\n",
    "tfidf_vectorizer = TfidfVectorizer(ngram_range=(1, 2))\n",
    "X_tfidf = tfidf_vectorizer.fit_transform(X)\n",
    "\n",
    "# Eğitim ve Test Setlerine Ayırma\n",
    "X_train, X_test, y_train, y_test = train_test_split(X_tfidf, y, test_size=0.2, random_state=42)\n",
    "\n",
    "# Label Encoding\n",
    "encoder = LabelEncoder()\n",
    "y_train = encoder.fit_transform(y_train)\n",
    "y_test = encoder.transform(y_test)\n",
    "\n",
    "# PCA Uygulaması\n",
    "X_train_pca = apply_pca(X_train, n_components=50)  # 50 boyuta indiriyoruz\n",
    "X_test_pca = apply_pca(X_test, n_components=50)\n",
    "\n",
    "# ANN Modeli Oluşturma\n",
    "ann_model = Sequential()\n",
    "ann_model.add(Dense(64, input_dim=X_train_pca.shape[1], activation='relu'))\n",
    "ann_model.add(Dense(32, activation='relu'))\n",
    "ann_model.add(Dense(1, activation='sigmoid'))\n",
    "\n",
    "# Modeli Derleme\n",
    "ann_model.compile(optimizer=Adam(), loss='binary_crossentropy', metrics=[metrics.AUC(), 'accuracy'])\n",
    "\n",
    "# Modeli Eğitim Verisiyle Eğitme\n",
    "history = ann_model.fit(X_train_pca, y_train, epochs=10, batch_size=64, validation_data=(X_test_pca, y_test))\n",
    "\n",
    "# Eğitim ve Doğrulama Kayıplarını Görselleştirme\n",
    "plt.plot(history.history['loss'], label='Train Loss')\n",
    "plt.plot(history.history['val_loss'], label='Validation Loss')\n",
    "plt.title('Train vs Validation Loss')\n",
    "plt.xlabel('Epochs')\n",
    "plt.ylabel('Loss')\n",
    "plt.legend()\n",
    "plt.show()\n",
    "\n",
    "# Test Verisiyle Tahmin\n",
    "y_pred_ann = (ann_model.predict(X_test_pca) > 0.5).astype(int)\n",
    "\n",
    "# Performans Sonuçları\n",
    "ann_acc, ann_precision, ann_recall, ann_f1 = get_classification_metrics(y_test, y_pred_ann)\n",
    "\n",
    "print(\"\\nANN Modeli Performans Sonuçları:\")\n",
    "print(\"Doğruluk Skoru:\", ann_acc)\n",
    "print(\"Hassasiyet (Precision):\", ann_precision)\n",
    "print(\"Duyarlılık (Recall):\", ann_recall)\n",
    "print(\"F1-Skoru:\", ann_f1)\n",
    "\n",
    "print(\"\\nSınıflandırma Raporu:\")\n",
    "print(classification_report(y_test, y_pred_ann))\n",
    "print(\"\\nConfusion Matrix:\")\n",
    "print(confusion_matrix(y_test, y_pred_ann))\n"
   ]
  },
  {
   "cell_type": "code",
   "execution_count": null,
   "metadata": {
    "colab": {
     "base_uri": "https://localhost:8080/",
     "height": 210
    },
    "id": "hnCGTNExSFTr",
    "outputId": "a7a9798f-3ff3-47a0-abf2-7743a1e17916"
   },
   "outputs": [
    {
     "data": {
      "text/html": [
       "<style type=\"text/css\">\n",
       "#T_2d8b1 thead th {\n",
       "  background-color: green;\n",
       "  border: 1px solid black;\n",
       "}\n",
       "#T_2d8b1 tbody td {\n",
       "  border: 1px solid black;\n",
       "}\n",
       "#T_2d8b1 table {\n",
       "  border-collapse: collapse;\n",
       "  width: 100%;\n",
       "}\n",
       "</style>\n",
       "<table id=\"T_2d8b1\" class=\"dataframe\">\n",
       "  <thead>\n",
       "    <tr>\n",
       "      <th class=\"blank level0\" >&nbsp;</th>\n",
       "      <th id=\"T_2d8b1_level0_col0\" class=\"col_heading level0 col0\" >Model</th>\n",
       "      <th id=\"T_2d8b1_level0_col1\" class=\"col_heading level0 col1\" >Accuracy</th>\n",
       "      <th id=\"T_2d8b1_level0_col2\" class=\"col_heading level0 col2\" >Precision</th>\n",
       "      <th id=\"T_2d8b1_level0_col3\" class=\"col_heading level0 col3\" >Recall</th>\n",
       "      <th id=\"T_2d8b1_level0_col4\" class=\"col_heading level0 col4\" >F1-Score</th>\n",
       "    </tr>\n",
       "  </thead>\n",
       "  <tbody>\n",
       "    <tr>\n",
       "      <th id=\"T_2d8b1_level0_row0\" class=\"row_heading level0 row0\" >0</th>\n",
       "      <td id=\"T_2d8b1_row0_col0\" class=\"data row0 col0\" >GBM</td>\n",
       "      <td id=\"T_2d8b1_row0_col1\" class=\"data row0 col1\" >0.792094</td>\n",
       "      <td id=\"T_2d8b1_row0_col2\" class=\"data row0 col2\" >0.793933</td>\n",
       "      <td id=\"T_2d8b1_row0_col3\" class=\"data row0 col3\" >0.792094</td>\n",
       "      <td id=\"T_2d8b1_row0_col4\" class=\"data row0 col4\" >0.744638</td>\n",
       "    </tr>\n",
       "    <tr>\n",
       "      <th id=\"T_2d8b1_level0_row1\" class=\"row_heading level0 row1\" >1</th>\n",
       "      <td id=\"T_2d8b1_row1_col0\" class=\"data row1 col0\" >XGBoost</td>\n",
       "      <td id=\"T_2d8b1_row1_col1\" class=\"data row1 col1\" >0.820888</td>\n",
       "      <td id=\"T_2d8b1_row1_col2\" class=\"data row1 col2\" >0.815703</td>\n",
       "      <td id=\"T_2d8b1_row1_col3\" class=\"data row1 col3\" >0.820888</td>\n",
       "      <td id=\"T_2d8b1_row1_col4\" class=\"data row1 col4\" >0.792804</td>\n",
       "    </tr>\n",
       "    <tr>\n",
       "      <th id=\"T_2d8b1_level0_row2\" class=\"row_heading level0 row2\" >2</th>\n",
       "      <td id=\"T_2d8b1_row2_col0\" class=\"data row2 col0\" >Random Forest</td>\n",
       "      <td id=\"T_2d8b1_row2_col1\" class=\"data row2 col1\" >0.786725</td>\n",
       "      <td id=\"T_2d8b1_row2_col2\" class=\"data row2 col2\" >0.787473</td>\n",
       "      <td id=\"T_2d8b1_row2_col3\" class=\"data row2 col3\" >0.786725</td>\n",
       "      <td id=\"T_2d8b1_row2_col4\" class=\"data row2 col4\" >0.724908</td>\n",
       "    </tr>\n",
       "    <tr>\n",
       "      <th id=\"T_2d8b1_level0_row3\" class=\"row_heading level0 row3\" >3</th>\n",
       "      <td id=\"T_2d8b1_row3_col0\" class=\"data row3 col0\" >CatBoost</td>\n",
       "      <td id=\"T_2d8b1_row3_col1\" class=\"data row3 col1\" >0.744754</td>\n",
       "      <td id=\"T_2d8b1_row3_col2\" class=\"data row3 col2\" >0.554658</td>\n",
       "      <td id=\"T_2d8b1_row3_col3\" class=\"data row3 col3\" >0.744754</td>\n",
       "      <td id=\"T_2d8b1_row3_col4\" class=\"data row3 col4\" >0.635801</td>\n",
       "    </tr>\n",
       "    <tr>\n",
       "      <th id=\"T_2d8b1_level0_row4\" class=\"row_heading level0 row4\" >4</th>\n",
       "      <td id=\"T_2d8b1_row4_col0\" class=\"data row4 col0\" >ANN</td>\n",
       "      <td id=\"T_2d8b1_row4_col1\" class=\"data row4 col1\" >0.744754</td>\n",
       "      <td id=\"T_2d8b1_row4_col2\" class=\"data row4 col2\" >0.554658</td>\n",
       "      <td id=\"T_2d8b1_row4_col3\" class=\"data row4 col3\" >0.744754</td>\n",
       "      <td id=\"T_2d8b1_row4_col4\" class=\"data row4 col4\" >0.635801</td>\n",
       "    </tr>\n",
       "  </tbody>\n",
       "</table>\n"
      ],
      "text/plain": [
       "<pandas.io.formats.style.Styler at 0x793fd4b8a680>"
      ]
     },
     "execution_count": 78,
     "metadata": {},
     "output_type": "execute_result"
    }
   ],
   "source": [
    "import pandas as pd\n",
    "\n",
    "results_df = pd.DataFrame({\n",
    "    'Model': ['GBM', 'XGBoost', 'Random Forest', 'CatBoost', 'ANN'],\n",
    "    'Accuracy': [gbm_acc, xgb_acc, rf_acc, catboost_acc, ann_acc],\n",
    "    'Precision': [gbm_precision, xgb_precision, rf_precision, catboost_precision, ann_precision],\n",
    "    'Recall': [gbm_recall, xgb_recall, rf_recall, catboost_recall, ann_recall],\n",
    "    'F1-Score': [gbm_f1, xgb_f1, rf_f1, catboost_f1, ann_f1]\n",
    "})\n",
    "\n",
    "styled_df = results_df.style.set_table_styles([\n",
    "    {'selector': 'thead th', 'props': [('background-color', 'green'), ('border', '1px solid black')]},\n",
    "    {'selector': 'tbody td', 'props': [('border', '1px solid black')]},\n",
    "    {'selector': 'table', 'props': [('border-collapse', 'collapse'), ('width', '100%')]},\n",
    "])\n",
    "\n",
    "# show all results\n",
    "styled_df\n"
   ]
  },
  {
   "cell_type": "markdown",
   "metadata": {},
   "source": [
    "## ML Models + TruncatedSVD"
   ]
  },
  {
   "cell_type": "code",
   "execution_count": 19,
   "metadata": {},
   "outputs": [
    {
     "name": "stdout",
     "output_type": "stream",
     "text": [
      "X_train boyutu: (8196, 4)\n",
      "y_train boyutu: (8196,)\n"
     ]
    }
   ],
   "source": [
    "from sklearn.decomposition import TruncatedSVD\n",
    "from sklearn.model_selection import train_test_split\n",
    "from scipy.sparse import csr_matrix\n",
    "\n",
    "# X_tfidf zaten sparse formatta olabilir, bu yüzden toarray() kullanmayın\n",
    "X_sparse = csr_matrix(X_tfidf)  # Eğer zaten sparse formatta değilse, bunu sparse formata çevirin\n",
    "\n",
    "# TruncatedSVD uygulaması (PCA'ya alternatif)\n",
    "svd = TruncatedSVD(n_components=4, random_state=42)  # PCA yerine TruncatedSVD\n",
    "X_svd = svd.fit_transform(X_sparse)  # Sparse veriyi doğrudan TruncatedSVD'ye veriyoruz\n",
    "\n",
    "# Eğitim ve test setlerini ayırma\n",
    "X_train, X_test, y_train, y_test = train_test_split(X_svd, y, test_size=0.2, random_state=42)\n",
    "\n",
    "print(\"X_train boyutu:\", X_train.shape)\n",
    "print(\"y_train boyutu:\", y_train.shape)\n"
   ]
  },
  {
   "cell_type": "code",
   "execution_count": 20,
   "metadata": {},
   "outputs": [
    {
     "name": "stdout",
     "output_type": "stream",
     "text": [
      "Random Forest - Accuracy: 0.7457296242069302, Precision: 0.6892965795762793, Recall: 0.7457296242069302, F1-Score: 0.6973449655954403\n"
     ]
    },
    {
     "name": "stderr",
     "output_type": "stream",
     "text": [
      "c:\\Users\\Baki Akgun\\New Folder\\Lib\\site-packages\\sklearn\\metrics\\_classification.py:1469: UndefinedMetricWarning: Precision is ill-defined and being set to 0.0 in labels with no predicted samples. Use `zero_division` parameter to control this behavior.\n",
      "  _warn_prf(average, modifier, msg_start, len(result))\n"
     ]
    }
   ],
   "source": [
    "from sklearn.ensemble import RandomForestClassifier\n",
    "from sklearn.metrics import accuracy_score, precision_score, recall_score, f1_score\n",
    "\n",
    "# Random Forest Modeli\n",
    "rf_model = RandomForestClassifier(n_estimators=100, random_state=42)\n",
    "rf_model.fit(X_train, y_train)\n",
    "y_pred_rf = rf_model.predict(X_test)\n",
    "\n",
    "# Sonuçları hesaplama\n",
    "rf_acc = accuracy_score(y_test, y_pred_rf)\n",
    "rf_precision = precision_score(y_test, y_pred_rf, average='weighted')\n",
    "rf_recall = recall_score(y_test, y_pred_rf, average='weighted')\n",
    "rf_f1 = f1_score(y_test, y_pred_rf, average='weighted')\n",
    "\n",
    "print(f\"Random Forest - Accuracy: {rf_acc}, Precision: {rf_precision}, Recall: {rf_recall}, F1-Score: {rf_f1}\")\n"
   ]
  },
  {
   "cell_type": "code",
   "execution_count": 21,
   "metadata": {},
   "outputs": [
    {
     "name": "stdout",
     "output_type": "stream",
     "text": [
      "Gradient Boosting - Accuracy: 0.7447535383113714, Precision: 0.6868624835473158, Recall: 0.7447535383113714, F1-Score: 0.6696604745336399\n"
     ]
    }
   ],
   "source": [
    "from sklearn.ensemble import GradientBoostingClassifier\n",
    "\n",
    "# Gradient Boosting Modeli\n",
    "gbm_model = GradientBoostingClassifier(n_estimators=100, random_state=42)\n",
    "gbm_model.fit(X_train, y_train)\n",
    "y_pred_gbm = gbm_model.predict(X_test)\n",
    "\n",
    "# Sonuçları hesaplama\n",
    "gbm_acc = accuracy_score(y_test, y_pred_gbm)\n",
    "gbm_precision = precision_score(y_test, y_pred_gbm, average='weighted')\n",
    "gbm_recall = recall_score(y_test, y_pred_gbm, average='weighted')\n",
    "gbm_f1 = f1_score(y_test, y_pred_gbm, average='weighted')\n",
    "\n",
    "print(f\"Gradient Boosting - Accuracy: {gbm_acc}, Precision: {gbm_precision}, Recall: {gbm_recall}, F1-Score: {gbm_f1}\")\n"
   ]
  },
  {
   "cell_type": "code",
   "execution_count": 34,
   "metadata": {},
   "outputs": [
    {
     "name": "stdout",
     "output_type": "stream",
     "text": [
      "XGBoost - Accuracy: 0.7447535383113714, Precision: 0.680916183425665, Recall: 0.7447535383113714, F1-Score: 0.6839036825964248\n"
     ]
    },
    {
     "name": "stderr",
     "output_type": "stream",
     "text": [
      "c:\\Users\\Baki Akgun\\New Folder\\Lib\\site-packages\\sklearn\\metrics\\_classification.py:1469: UndefinedMetricWarning: Precision is ill-defined and being set to 0.0 in labels with no predicted samples. Use `zero_division` parameter to control this behavior.\n",
      "  _warn_prf(average, modifier, msg_start, len(result))\n"
     ]
    }
   ],
   "source": [
    "\n",
    "# XGBoost Modeli\n",
    "xgb_model = XGBClassifier(n_estimators=100, random_state=42)\n",
    "xgb_model.fit(X_train, y_train)\n",
    "y_pred_xgb = xgb_model.predict(X_test)\n",
    "\n",
    "# Sonuçları hesaplama\n",
    "xgb_acc = accuracy_score(y_test, y_pred_xgb)\n",
    "xgb_precision = precision_score(y_test, y_pred_xgb, average='weighted')\n",
    "xgb_recall = recall_score(y_test, y_pred_xgb, average='weighted')\n",
    "xgb_f1 = f1_score(y_test, y_pred_xgb, average='weighted')\n",
    "\n",
    "print(f\"XGBoost - Accuracy: {xgb_acc}, Precision: {xgb_precision}, Recall: {xgb_recall}, F1-Score: {xgb_f1}\")\n"
   ]
  },
  {
   "cell_type": "code",
   "execution_count": 25,
   "metadata": {},
   "outputs": [
    {
     "name": "stdout",
     "output_type": "stream",
     "text": [
      "CatBoost - Accuracy: 0.7481698389458272, Precision: 0.714865692494665, Recall: 0.7481698389458272, F1-Score: 0.6418559714915036\n"
     ]
    },
    {
     "name": "stderr",
     "output_type": "stream",
     "text": [
      "c:\\Users\\Baki Akgun\\New Folder\\Lib\\site-packages\\sklearn\\metrics\\_classification.py:1469: UndefinedMetricWarning: Precision is ill-defined and being set to 0.0 in labels with no predicted samples. Use `zero_division` parameter to control this behavior.\n",
      "  _warn_prf(average, modifier, msg_start, len(result))\n"
     ]
    }
   ],
   "source": [
    "from catboost import CatBoostClassifier\n",
    "\n",
    "# CatBoost Modeli\n",
    "catboost_model = CatBoostClassifier(iterations=20, learning_rate=0.05, depth=10, random_state=42, verbose=0)\n",
    "catboost_model.fit(X_train, y_train)\n",
    "y_pred_catboost = catboost_model.predict(X_test)\n",
    "\n",
    "# Sonuçları hesaplama\n",
    "catboost_acc = accuracy_score(y_test, y_pred_catboost)\n",
    "catboost_precision = precision_score(y_test, y_pred_catboost, average='weighted')\n",
    "catboost_recall = recall_score(y_test, y_pred_catboost, average='weighted')\n",
    "catboost_f1 = f1_score(y_test, y_pred_catboost, average='weighted')\n",
    "\n",
    "print(f\"CatBoost - Accuracy: {catboost_acc}, Precision: {catboost_precision}, Recall: {catboost_recall}, F1-Score: {catboost_f1}\")\n"
   ]
  },
  {
   "cell_type": "code",
   "execution_count": 26,
   "metadata": {},
   "outputs": [
    {
     "name": "stderr",
     "output_type": "stream",
     "text": [
      "c:\\Users\\Baki Akgun\\New Folder\\Lib\\site-packages\\keras\\src\\layers\\core\\dense.py:87: UserWarning: Do not pass an `input_shape`/`input_dim` argument to a layer. When using Sequential models, prefer using an `Input(shape)` object as the first layer in the model instead.\n",
      "  super().__init__(activity_regularizer=activity_regularizer, **kwargs)\n"
     ]
    },
    {
     "name": "stdout",
     "output_type": "stream",
     "text": [
      "\u001b[1m65/65\u001b[0m \u001b[32m━━━━━━━━━━━━━━━━━━━━\u001b[0m\u001b[37m\u001b[0m \u001b[1m0s\u001b[0m 1ms/step\n",
      "ANN - Accuracy: 0.7447535383113714, Precision: 0.5546578328273073, Recall: 0.7447535383113714, F1-Score: 0.635800782916449\n"
     ]
    },
    {
     "name": "stderr",
     "output_type": "stream",
     "text": [
      "c:\\Users\\Baki Akgun\\New Folder\\Lib\\site-packages\\sklearn\\metrics\\_classification.py:1469: UndefinedMetricWarning: Precision is ill-defined and being set to 0.0 in labels with no predicted samples. Use `zero_division` parameter to control this behavior.\n",
      "  _warn_prf(average, modifier, msg_start, len(result))\n"
     ]
    }
   ],
   "source": [
    "from tensorflow.keras.models import Sequential\n",
    "from tensorflow.keras.layers import Dense\n",
    "from tensorflow.keras.optimizers import Adam\n",
    "from tensorflow.keras import metrics\n",
    "from sklearn.preprocessing import LabelEncoder\n",
    "\n",
    "# Hedef değişkeni kodlama\n",
    "encoder = LabelEncoder()\n",
    "y_train_encoded = encoder.fit_transform(y_train)\n",
    "y_test_encoded = encoder.transform(y_test)\n",
    "\n",
    "# ANN Modeli\n",
    "ann_model = Sequential()\n",
    "ann_model.add(Dense(64, input_dim=X_train.shape[1], activation='relu'))\n",
    "ann_model.add(Dense(32, activation='relu'))\n",
    "ann_model.add(Dense(1, activation='sigmoid'))\n",
    "ann_model.compile(optimizer=Adam(), loss='binary_crossentropy', metrics=[metrics.AUC(), 'accuracy'])\n",
    "\n",
    "ann_model.fit(X_train, y_train_encoded, epochs=10, batch_size=64, verbose=0)\n",
    "y_pred_ann = (ann_model.predict(X_test) > 0.5).astype(int).flatten()\n",
    "\n",
    "# Sonuçları hesaplama\n",
    "ann_acc = accuracy_score(y_test_encoded, y_pred_ann)\n",
    "ann_precision = precision_score(y_test_encoded, y_pred_ann, average='weighted')\n",
    "ann_recall = recall_score(y_test_encoded, y_pred_ann, average='weighted')\n",
    "ann_f1 = f1_score(y_test_encoded, y_pred_ann, average='weighted')\n",
    "\n",
    "print(f\"ANN - Accuracy: {ann_acc}, Precision: {ann_precision}, Recall: {ann_recall}, F1-Score: {ann_f1}\")\n"
   ]
  },
  {
   "cell_type": "code",
   "execution_count": 36,
   "metadata": {},
   "outputs": [
    {
     "name": "stdout",
     "output_type": "stream",
     "text": [
      "Models With TruncatedSVD(instead of PCA))\n"
     ]
    },
    {
     "data": {
      "text/html": [
       "<div>\n",
       "<style scoped>\n",
       "    .dataframe tbody tr th:only-of-type {\n",
       "        vertical-align: middle;\n",
       "    }\n",
       "\n",
       "    .dataframe tbody tr th {\n",
       "        vertical-align: top;\n",
       "    }\n",
       "\n",
       "    .dataframe thead th {\n",
       "        text-align: right;\n",
       "    }\n",
       "</style>\n",
       "<table border=\"1\" class=\"dataframe\">\n",
       "  <thead>\n",
       "    <tr style=\"text-align: right;\">\n",
       "      <th></th>\n",
       "      <th>Model</th>\n",
       "      <th>Accuracy</th>\n",
       "      <th>Precision</th>\n",
       "      <th>Recall</th>\n",
       "      <th>F1-Score</th>\n",
       "    </tr>\n",
       "  </thead>\n",
       "  <tbody>\n",
       "    <tr>\n",
       "      <th>0</th>\n",
       "      <td>Random Forest</td>\n",
       "      <td>0.745730</td>\n",
       "      <td>0.689297</td>\n",
       "      <td>0.745730</td>\n",
       "      <td>0.697345</td>\n",
       "    </tr>\n",
       "    <tr>\n",
       "      <th>1</th>\n",
       "      <td>Gradient Boosting</td>\n",
       "      <td>0.744754</td>\n",
       "      <td>0.686862</td>\n",
       "      <td>0.744754</td>\n",
       "      <td>0.669660</td>\n",
       "    </tr>\n",
       "    <tr>\n",
       "      <th>2</th>\n",
       "      <td>XGBoost</td>\n",
       "      <td>0.744754</td>\n",
       "      <td>0.680916</td>\n",
       "      <td>0.744754</td>\n",
       "      <td>0.683904</td>\n",
       "    </tr>\n",
       "    <tr>\n",
       "      <th>3</th>\n",
       "      <td>CatBoost</td>\n",
       "      <td>0.748170</td>\n",
       "      <td>0.714866</td>\n",
       "      <td>0.748170</td>\n",
       "      <td>0.641856</td>\n",
       "    </tr>\n",
       "    <tr>\n",
       "      <th>4</th>\n",
       "      <td>ANN</td>\n",
       "      <td>0.744754</td>\n",
       "      <td>0.554658</td>\n",
       "      <td>0.744754</td>\n",
       "      <td>0.635801</td>\n",
       "    </tr>\n",
       "  </tbody>\n",
       "</table>\n",
       "</div>"
      ],
      "text/plain": [
       "               Model  Accuracy  Precision    Recall  F1-Score\n",
       "0      Random Forest  0.745730   0.689297  0.745730  0.697345\n",
       "1  Gradient Boosting  0.744754   0.686862  0.744754  0.669660\n",
       "2            XGBoost  0.744754   0.680916  0.744754  0.683904\n",
       "3           CatBoost  0.748170   0.714866  0.748170  0.641856\n",
       "4                ANN  0.744754   0.554658  0.744754  0.635801"
      ]
     },
     "execution_count": 36,
     "metadata": {},
     "output_type": "execute_result"
    }
   ],
   "source": [
    "import pandas as pd\n",
    "\n",
    "# Sonuçları tabloya dönüştürme\n",
    "results_df = pd.DataFrame({\n",
    "    'Model': ['Random Forest', 'Gradient Boosting', 'XGBoost', 'CatBoost', 'ANN'],\n",
    "    'Accuracy': [rf_acc, gbm_acc, xgb_acc, catboost_acc, ann_acc],\n",
    "    'Precision': [rf_precision, gbm_precision, xgb_precision, catboost_precision, ann_precision],\n",
    "    'Recall': [rf_recall, gbm_recall, xgb_recall, catboost_recall, ann_recall],\n",
    "    'F1-Score': [rf_f1, gbm_f1, xgb_f1, catboost_f1, ann_f1]\n",
    "})\n",
    "print(\"Models With TruncatedSVD(instead of PCA))\")\n",
    "results_df\n"
   ]
  },
  {
   "cell_type": "markdown",
   "metadata": {},
   "source": [
    "## TextGAN Methods\n"
   ]
  },
  {
   "cell_type": "markdown",
   "metadata": {
    "id": "OD_pTN_jLrnG"
   },
   "source": [
    "### Resampling Methods\n",
    "\n"
   ]
  },
  {
   "cell_type": "code",
   "execution_count": null,
   "metadata": {
    "colab": {
     "base_uri": "https://localhost:8080/"
    },
    "id": "XY_Ac5ZlLrnG",
    "outputId": "15879a33-3007-4ad9-a5e4-2213e914120b"
   },
   "outputs": [
    {
     "name": "stdout",
     "output_type": "stream",
     "text": [
      "Oversampling sonrası eğitim seti boyutu: (24784, 213290)\n"
     ]
    }
   ],
   "source": [
    "from imblearn.over_sampling import SMOTE\n",
    "\n",
    "# SMOTE ile oversampling yap\n",
    "smote = SMOTE(random_state=42)\n",
    "X_train_smote, y_train_smote = smote.fit_resample(X_train, y_train)\n",
    "\n",
    "# Yeni eğitim setinin boyutuna bak\n",
    "print(\"Oversampling sonrası eğitim seti boyutu:\", X_train_smote.shape)\n"
   ]
  },
  {
   "cell_type": "code",
   "execution_count": null,
   "metadata": {
    "colab": {
     "base_uri": "https://localhost:8080/"
    },
    "id": "gTrh01ybLrnG",
    "outputId": "bf1e2f61-95f4-44c0-de75-7832462d9e32"
   },
   "outputs": [
    {
     "name": "stdout",
     "output_type": "stream",
     "text": [
      "Undersampling sonrası eğitim seti boyutu: (60, 213290)\n"
     ]
    }
   ],
   "source": [
    "from imblearn.under_sampling import RandomUnderSampler\n",
    "\n",
    "# Undersampling yap\n",
    "undersample = RandomUnderSampler(random_state=42)\n",
    "X_train_undersample, y_train_undersample = undersample.fit_resample(X_train, y_train)\n",
    "\n",
    "# Yeni eğitim setinin boyutuna bak\n",
    "print(\"Undersampling sonrası eğitim seti boyutu:\", X_train_undersample.shape)\n"
   ]
  },
  {
   "cell_type": "code",
   "execution_count": null,
   "metadata": {
    "colab": {
     "base_uri": "https://localhost:8080/"
    },
    "id": "E8CLlI7sLrnH",
    "outputId": "599606b9-d958-4f1a-e80b-9818169129dd"
   },
   "outputs": [
    {
     "name": "stdout",
     "output_type": "stream",
     "text": [
      "Kombine resampling sonrası eğitim seti boyutu: (18507, 213290)\n"
     ]
    }
   ],
   "source": [
    "from imblearn.combine import SMOTEENN\n",
    "\n",
    "# Kombine SMOTE + ENN (Edited Nearest Neighbors) kullanarak resampling\n",
    "smote_enn = SMOTEENN(random_state=42)\n",
    "X_train_combined, y_train_combined = smote_enn.fit_resample(X_train, y_train)\n",
    "\n",
    "# Yeni eğitim setinin boyutuna bak\n",
    "print(\"Kombine resampling sonrası eğitim seti boyutu:\", X_train_combined.shape)\n"
   ]
  },
  {
   "cell_type": "code",
   "execution_count": null,
   "metadata": {
    "id": "Rc3ajMHcLrnH"
   },
   "outputs": [],
   "source": [
    "from imblearn.over_sampling import SMOTE  # For oversampling\n",
    "from imblearn.under_sampling import RandomUnderSampler  # For undersampling\n",
    "from imblearn.combine import SMOTEENN  # For combined oversampling and undersampling\n",
    "from sklearn.model_selection import train_test_split\n",
    "from sklearn.metrics import accuracy_score\n"
   ]
  },
  {
   "cell_type": "code",
   "execution_count": null,
   "metadata": {
    "colab": {
     "base_uri": "https://localhost:8080/"
    },
    "id": "SVv9gjjzjX_l",
    "outputId": "4dd1003a-c5e8-4eb4-c347-34fb7a6c876d"
   },
   "outputs": [
    {
     "name": "stdout",
     "output_type": "stream",
     "text": [
      "Accuracy on SMOTE Resampled Data: 0.7974621766715471\n"
     ]
    }
   ],
   "source": [
    "# Initialize SMOTE\n",
    "smote = SMOTE(sampling_strategy='auto', random_state=42)\n",
    "\n",
    "# Apply SMOTE on the training data\n",
    "X_resampled, y_resampled = smote.fit_resample(X_train, y_train)\n",
    "\n",
    "# Train a model on the resampled data (for example, using Random Forest)\n",
    "from sklearn.ensemble import RandomForestClassifier\n",
    "rf_model_smote = RandomForestClassifier(random_state=42)\n",
    "rf_model_smote.fit(X_resampled, y_resampled)\n",
    "\n",
    "# Evaluate the model\n",
    "y_pred_smote = rf_model_smote.predict(X_test)\n",
    "print(\"Accuracy on SMOTE Resampled Data:\", accuracy_score(y_test, y_pred_smote))\n"
   ]
  },
  {
   "cell_type": "code",
   "execution_count": null,
   "metadata": {
    "colab": {
     "base_uri": "https://localhost:8080/"
    },
    "id": "CtrW6Y_ujavu",
    "outputId": "60545b55-55ad-40e3-b4e4-a054fa37dfc9"
   },
   "outputs": [
    {
     "name": "stdout",
     "output_type": "stream",
     "text": [
      "Accuracy on Undersampled Data: 0.0029282576866764276\n"
     ]
    }
   ],
   "source": [
    "# Initialize RandomUnderSampler\n",
    "undersampler = RandomUnderSampler(sampling_strategy='auto', random_state=42)\n",
    "\n",
    "# Apply undersampling on the training data\n",
    "X_resampled, y_resampled = undersampler.fit_resample(X_train, y_train)\n",
    "\n",
    "# Train a model on the resampled data (for example, using Random Forest)\n",
    "rf_model_undersample = RandomForestClassifier(random_state=42)\n",
    "rf_model_undersample.fit(X_resampled, y_resampled)\n",
    "\n",
    "# Evaluate the model\n",
    "y_pred_undersample = rf_model_undersample.predict(X_test)\n",
    "print(\"Accuracy on Undersampled Data:\", accuracy_score(y_test, y_pred_undersample))\n"
   ]
  },
  {
   "cell_type": "code",
   "execution_count": null,
   "metadata": {
    "colab": {
     "base_uri": "https://localhost:8080/"
    },
    "id": "evFHycdcjcy5",
    "outputId": "0b9803ac-21b1-46a9-9965-776a473c8566"
   },
   "outputs": [
    {
     "name": "stdout",
     "output_type": "stream",
     "text": [
      "Accuracy on SMOTEENN Resampled Data: 0.3191800878477306\n"
     ]
    }
   ],
   "source": [
    "# Initialize SMOTEENN\n",
    "smoteenn = SMOTEENN(sampling_strategy='auto', random_state=42)\n",
    "\n",
    "# Apply SMOTEENN on the training data\n",
    "X_resampled, y_resampled = smoteenn.fit_resample(X_train, y_train)\n",
    "\n",
    "# Train a model on the resampled data (for example, using Random Forest)\n",
    "rf_model_smoteenn = RandomForestClassifier(random_state=42)\n",
    "rf_model_smoteenn.fit(X_resampled, y_resampled)\n",
    "\n",
    "# Evaluate the model\n",
    "y_pred_smoteenn = rf_model_smoteenn.predict(X_test)\n",
    "print(\"Accuracy on SMOTEENN Resampled Data:\", accuracy_score(y_test, y_pred_smoteenn))\n"
   ]
  },
  {
   "cell_type": "code",
   "execution_count": null,
   "metadata": {
    "colab": {
     "base_uri": "https://localhost:8080/"
    },
    "id": "ZlPlwtwmjepY",
    "outputId": "e40e7f65-910d-47f3-b42f-2443ba72e55e"
   },
   "outputs": [
    {
     "name": "stdout",
     "output_type": "stream",
     "text": [
      "          Method  Accuracy\n",
      "0          SMOTE  0.797462\n",
      "1  Undersampling  0.002928\n",
      "2       SMOTEENN  0.319180\n"
     ]
    }
   ],
   "source": [
    "# Collect results into a DataFrame\n",
    "import pandas as pd\n",
    "\n",
    "results = {\n",
    "    'Method': ['SMOTE', 'Undersampling', 'SMOTEENN'],\n",
    "    'Accuracy': [\n",
    "        accuracy_score(y_test, y_pred_smote),\n",
    "        accuracy_score(y_test, y_pred_undersample),\n",
    "        accuracy_score(y_test, y_pred_smoteenn)\n",
    "    ]\n",
    "}\n",
    "\n",
    "results_df = pd.DataFrame(results)\n",
    "print(results_df)\n",
    "\n"
   ]
  },
  {
   "cell_type": "markdown",
   "metadata": {},
   "source": [
    "### TextGAN \n"
   ]
  },
  {
   "cell_type": "code",
   "execution_count": 19,
   "metadata": {
    "id": "RBEp3fTxjhSz"
   },
   "outputs": [
    {
     "name": "stdout",
     "output_type": "stream",
     "text": [
      "Modeller başarıyla yüklendi.\n",
      "Generator Output Shape: torch.Size([1, 10, 84585])\n",
      "Discriminator Output Shape: torch.Size([1, 1])\n",
      "Fake Output from Discriminator: tensor([[0.0257]])\n"
     ]
    }
   ],
   "source": [
    "import torch\n",
    "import torch.nn as nn\n",
    "import torch.optim as optim\n",
    "\n",
    "# Generator\n",
    "class Generator(nn.Module):\n",
    "    def __init__(self, vocab_size, embed_size, hidden_size):\n",
    "        super(Generator, self).__init__()\n",
    "        self.embedding = nn.Embedding(vocab_size, embed_size)\n",
    "        self.lstm = nn.LSTM(embed_size, hidden_size, batch_first=True)\n",
    "        self.fc = nn.Linear(hidden_size, vocab_size)\n",
    "\n",
    "    def forward(self, x, hidden):\n",
    "        x = self.embedding(x)\n",
    "        output, hidden = self.lstm(x, hidden)\n",
    "        logits = self.fc(output)\n",
    "        return logits, hidden\n",
    "\n",
    "# Discriminator\n",
    "class Discriminator(nn.Module):\n",
    "    def __init__(self, vocab_size, embed_size, hidden_size):\n",
    "        super(Discriminator, self).__init__()\n",
    "        self.embedding = nn.Embedding(vocab_size, embed_size)\n",
    "        self.lstm = nn.LSTM(embed_size, hidden_size, batch_first=True)\n",
    "        self.fc = nn.Linear(hidden_size, 1)\n",
    "        self.sigmoid = nn.Sigmoid()\n",
    "\n",
    "    def forward(self, x, hidden):\n",
    "        x = self.embedding(x)\n",
    "        output, hidden = self.lstm(x, hidden)\n",
    "        logits = self.fc(output[:, -1, :])  # Son zaman adımını kullan\n",
    "        return self.sigmoid(logits), hidden\n",
    "\n",
    "# Hiperparametreler (Model eğitimi sırasında kullandığınız değerler ile aynı olmalı)\n",
    "# Eğitim sırasında kullanılan vocab_size değerini buraya yazın\n",
    "vocab_size = 84585  # Eğitimde kullanılan değer\n",
    "  # Örnek değer, eğitim sırasında kullanılan değerle aynı olmalı\n",
    "embed_size = 128\n",
    "hidden_size = 128\n",
    "\n",
    "# Model tanımları\n",
    "generator = Generator(vocab_size, embed_size, hidden_size)\n",
    "discriminator = Discriminator(vocab_size, embed_size, hidden_size)\n",
    "\n",
    "# Modelleri yükleyin\n",
    "generator.load_state_dict(torch.load(\"C:\\\\Users\\\\Baki Akgun\\\\OneDrive\\\\Masaüstü\\\\Turkish_Hate_Speech_Predictor_Project\\\\generator.pth\"))\n",
    "discriminator.load_state_dict(torch.load(\"C:\\\\Users\\\\Baki Akgun\\\\OneDrive\\\\Masaüstü\\\\Turkish_Hate_Speech_Predictor_Project\\\\discriminator.pth\"))\n",
    "\n",
    "# Değerlendirme moduna geçin\n",
    "generator.eval()\n",
    "discriminator.eval()\n",
    "\n",
    "print(\"Modeller başarıyla yüklendi.\")\n",
    "\n",
    "# Test Verisi ile Örnek Kullanım\n",
    "with torch.no_grad():\n",
    "    # Test için rastgele girdi oluştur\n",
    "    test_noise = torch.randint(1, vocab_size, (1, 10))  # 1 satırlık, 10 zaman adımlı rastgele veri\n",
    "    hidden = None\n",
    "\n",
    "    # Generator kullanımı\n",
    "    generated_data, _ = generator(test_noise, hidden)\n",
    "    print(f\"Generator Output Shape: {generated_data.shape}\")  # Beklenen boyut: [1, 10, vocab_size]\n",
    "\n",
    "    # Discriminator kullanımı\n",
    "    real_output, _ = discriminator(test_noise, hidden)\n",
    "    print(f\"Discriminator Output Shape: {real_output.shape}\")  # Beklenen boyut: [1, 1]\n",
    "\n",
    "    # Discriminator üzerinde sahte veri testi\n",
    "    fake_output, _ = discriminator(generated_data.argmax(-1), hidden)\n",
    "    print(f\"Fake Output from Discriminator: {fake_output}\")\n"
   ]
  },
  {
   "cell_type": "code",
   "execution_count": 35,
   "metadata": {},
   "outputs": [],
   "source": [
    "def generate_synthetic_data(generator, num_samples, sequence_length, vocab_size, device='cpu'):\n",
    "    generator.eval()  # Modeli değerlendirme moduna geçir\n",
    "    synthetic_data = []\n",
    "    hidden = None\n",
    "\n",
    "    with torch.no_grad():\n",
    "        for _ in range(num_samples):\n",
    "            noise = torch.randint(1, vocab_size, (1, sequence_length)).to(device)  # Rastgele giriş\n",
    "            generated_seq, hidden = generator(noise, hidden)\n",
    "            synthetic_data.append(generated_seq.argmax(-1).squeeze(0).tolist())  # Maksimum olasılıklı kelimeler\n",
    "    return synthetic_data\n",
    "\n",
    "# Azınlık sınıfı için sentetik veri üretimi\n",
    "num_synthetic_samples = 500  # Üretilecek örnek sayısı\n",
    "sequence_length = 10  # Tweet uzunluğu (örnek olarak 10 aldık)\n",
    "synthetic_samples = generate_synthetic_data(generator, num_synthetic_samples, sequence_length, vocab_size)\n",
    "\n",
    "# Sentetik veriyi insan tarafından okunabilir forma çevir\n",
    "synthetic_texts = [\" \".join([tfidf_vectorizer.get_feature_names_out()[token] for token in seq if token < len(tfidf_vectorizer.get_feature_names_out())]) for seq in synthetic_samples]\n",
    "\n",
    "# Sentetik veriyi azınlık sınıfı etiketiyle ekleyelim\n",
    "synthetic_data = pd.DataFrame({'cleaned_tweet': synthetic_texts, 'Etiket': 'minority_label'})\n"
   ]
  },
  {
   "cell_type": "code",
   "execution_count": 36,
   "metadata": {},
   "outputs": [
    {
     "name": "stdout",
     "output_type": "stream",
     "text": [
      "Etiket\n",
      "hiçbiri           7722\n",
      "nefret            2336\n",
      "minority_label     500\n",
      "saldırgan          166\n",
      "Etiket              21\n",
      "Name: count, dtype: int64\n"
     ]
    }
   ],
   "source": [
    "# Orijinal veri seti ile sentetik veri setini birleştirme\n",
    "data_balanced = pd.concat([data_cleaned, synthetic_data], ignore_index=True)\n",
    "\n",
    "data_balanced.to_csv('data_balanced.csv', index=False)\n",
    "\n",
    "# Yeni veri setindeki sınıf dağılımını kontrol edelim\n",
    "print(data_balanced['Etiket'].value_counts())\n"
   ]
  },
  {
   "cell_type": "code",
   "execution_count": 37,
   "metadata": {},
   "outputs": [
    {
     "name": "stdout",
     "output_type": "stream",
     "text": [
      "Dengelenmiş Eğitim Verisi Boyutu: (8596, 217801)\n",
      "Dengelenmiş Test Verisi Boyutu: (2149, 217801)\n"
     ]
    }
   ],
   "source": [
    "from sklearn.model_selection import train_test_split\n",
    "\n",
    "# Eğitim ve test setlerine ayırma\n",
    "X_balanced = tfidf_vectorizer.fit_transform(data_balanced['cleaned_tweet'])\n",
    "y_balanced = data_balanced['Etiket']\n",
    "\n",
    "X_train_balanced, X_test_balanced, y_train_balanced, y_test_balanced = train_test_split(\n",
    "    X_balanced, y_balanced, test_size=0.2, random_state=42\n",
    ")\n",
    "\n",
    "print(\"Dengelenmiş Eğitim Verisi Boyutu:\", X_train_balanced.shape)\n",
    "print(\"Dengelenmiş Test Verisi Boyutu:\", X_test_balanced.shape)\n"
   ]
  },
  {
   "cell_type": "code",
   "execution_count": 40,
   "metadata": {},
   "outputs": [],
   "source": [
    "import pandas as pd\n",
    "from sklearn.ensemble import RandomForestClassifier, GradientBoostingClassifier\n",
    "from sklearn.neural_network import MLPClassifier\n",
    "from sklearn.metrics import accuracy_score, recall_score, f1_score\n",
    "from sklearn.model_selection import train_test_split\n",
    "from sklearn.feature_extraction.text import TfidfVectorizer\n"
   ]
  },
  {
   "cell_type": "code",
   "execution_count": 41,
   "metadata": {},
   "outputs": [],
   "source": [
    "# Özellikler (X) ve etiketler (y) için TF-IDF ve etiketleme\n",
    "tfidf_vectorizer = TfidfVectorizer()\n",
    "X_balanced = tfidf_vectorizer.fit_transform(data_balanced['cleaned_tweet'])\n",
    "y_balanced = data_balanced['Etiket']\n",
    "\n",
    "# Eğitim ve test setlerine ayırma\n",
    "X_train_balanced, X_test_balanced, y_train_balanced, y_test_balanced = train_test_split(\n",
    "    X_balanced, y_balanced, test_size=0.2, random_state=42\n",
    ")\n"
   ]
  },
  {
   "cell_type": "code",
   "execution_count": 44,
   "metadata": {},
   "outputs": [],
   "source": [
    "# Sonuçları saklamak için bir liste\n",
    "results = []\n",
    "\n",
    "# 1. Random Forest\n",
    "rf_model = RandomForestClassifier(random_state=42)\n",
    "rf_model.fit(X_train_balanced, y_train_balanced)\n",
    "rf_pred = rf_model.predict(X_test_balanced)\n",
    "\n",
    "rf_accuracy = accuracy_score(y_test_balanced, rf_pred)\n",
    "rf_recall = recall_score(y_test_balanced, rf_pred, average='weighted')  # 'binary' yerine 'weighted'\n",
    "rf_f1 = f1_score(y_test_balanced, rf_pred, average='weighted')  # 'binary' yerine 'weighted'\n",
    "\n",
    "results.append({\n",
    "    'Model': 'Random Forest',\n",
    "    'Accuracy': rf_accuracy,\n",
    "    'Recall': rf_recall,\n",
    "    'F1 Score': rf_f1\n",
    "})\n"
   ]
  },
  {
   "cell_type": "code",
   "execution_count": 46,
   "metadata": {},
   "outputs": [
    {
     "name": "stdout",
     "output_type": "stream",
     "text": [
      "Accuracy: 0.7725\n",
      "Recall: 0.7725\n",
      "F1 Score: 0.7214\n"
     ]
    }
   ],
   "source": [
    "from sklearn.metrics import accuracy_score, recall_score, f1_score\n",
    "\n",
    "# Model Evaluation\n",
    "gbm_model = GradientBoostingClassifier(random_state=42)\n",
    "gbm_model.fit(X_train_balanced, y_train_balanced)\n",
    "gbm_pred = gbm_model.predict(X_test_balanced)\n",
    "\n",
    "# Accuracy\n",
    "gbm_accuracy = accuracy_score(y_test_balanced, gbm_pred)\n",
    "\n",
    "# Recall and F1 Score with weighted average\n",
    "gbm_recall = recall_score(y_test_balanced, gbm_pred, average='weighted')\n",
    "gbm_f1 = f1_score(y_test_balanced, gbm_pred, average='weighted')\n",
    "\n",
    "# Store results\n",
    "results.append({\n",
    "    'Model': 'Gradient Boosting',\n",
    "    'Accuracy': gbm_accuracy,\n",
    "    'Recall': gbm_recall,\n",
    "    'F1 Score': gbm_f1\n",
    "})\n",
    "\n",
    "# Display results\n",
    "print(f\"Accuracy: {gbm_accuracy:.4f}\")\n",
    "print(f\"Recall: {gbm_recall:.4f}\")\n",
    "print(f\"F1 Score: {gbm_f1:.4f}\")\n"
   ]
  },
  {
   "cell_type": "code",
   "execution_count": 47,
   "metadata": {},
   "outputs": [
    {
     "name": "stdout",
     "output_type": "stream",
     "text": [
      "Accuracy: 0.8167\n",
      "Recall: 0.8167\n",
      "F1 Score: 0.7950\n"
     ]
    }
   ],
   "source": [
    "from sklearn.metrics import accuracy_score, recall_score, f1_score\n",
    "from sklearn.neural_network import MLPClassifier\n",
    "\n",
    "# Model Evaluation for ANN\n",
    "ann_model = MLPClassifier(random_state=42)\n",
    "ann_model.fit(X_train_balanced, y_train_balanced)\n",
    "ann_pred = ann_model.predict(X_test_balanced)\n",
    "\n",
    "# Accuracy\n",
    "ann_accuracy = accuracy_score(y_test_balanced, ann_pred)\n",
    "\n",
    "# Recall and F1 Score with weighted average for multiclass\n",
    "ann_recall = recall_score(y_test_balanced, ann_pred, average='weighted')\n",
    "ann_f1 = f1_score(y_test_balanced, ann_pred, average='weighted')\n",
    "\n",
    "# Store results\n",
    "results.append({\n",
    "    'Model': 'ANN',\n",
    "    'Accuracy': ann_accuracy,\n",
    "    'Recall': ann_recall,\n",
    "    'F1 Score': ann_f1\n",
    "})\n",
    "\n",
    "# Display results\n",
    "print(f\"Accuracy: {ann_accuracy:.4f}\")\n",
    "print(f\"Recall: {ann_recall:.4f}\")\n",
    "print(f\"F1 Score: {ann_f1:.4f}\")\n"
   ]
  },
  {
   "cell_type": "code",
   "execution_count": 48,
   "metadata": {},
   "outputs": [
    {
     "data": {
      "text/html": [
       "<div>\n",
       "<style scoped>\n",
       "    .dataframe tbody tr th:only-of-type {\n",
       "        vertical-align: middle;\n",
       "    }\n",
       "\n",
       "    .dataframe tbody tr th {\n",
       "        vertical-align: top;\n",
       "    }\n",
       "\n",
       "    .dataframe thead th {\n",
       "        text-align: right;\n",
       "    }\n",
       "</style>\n",
       "<table border=\"1\" class=\"dataframe\">\n",
       "  <thead>\n",
       "    <tr style=\"text-align: right;\">\n",
       "      <th></th>\n",
       "      <th>Model</th>\n",
       "      <th>Accuracy</th>\n",
       "      <th>Recall</th>\n",
       "      <th>F1 Score</th>\n",
       "    </tr>\n",
       "  </thead>\n",
       "  <tbody>\n",
       "    <tr>\n",
       "      <th>0</th>\n",
       "      <td>Random Forest</td>\n",
       "      <td>0.775710</td>\n",
       "      <td>0.775710</td>\n",
       "      <td>0.719233</td>\n",
       "    </tr>\n",
       "    <tr>\n",
       "      <th>1</th>\n",
       "      <td>Gradient Boosting</td>\n",
       "      <td>0.772452</td>\n",
       "      <td>0.772452</td>\n",
       "      <td>0.721353</td>\n",
       "    </tr>\n",
       "    <tr>\n",
       "      <th>2</th>\n",
       "      <td>ANN</td>\n",
       "      <td>0.816659</td>\n",
       "      <td>0.816659</td>\n",
       "      <td>0.795025</td>\n",
       "    </tr>\n",
       "  </tbody>\n",
       "</table>\n",
       "</div>"
      ],
      "text/plain": [
       "               Model  Accuracy    Recall  F1 Score\n",
       "0      Random Forest  0.775710  0.775710  0.719233\n",
       "1  Gradient Boosting  0.772452  0.772452  0.721353\n",
       "2                ANN  0.816659  0.816659  0.795025"
      ]
     },
     "execution_count": 48,
     "metadata": {},
     "output_type": "execute_result"
    }
   ],
   "source": [
    "\n",
    "# Sonuçları DataFrame'e dönüştürme\n",
    "results_df = pd.DataFrame(results)\n",
    "\n",
    "# Sonuçları yazdırma\n",
    "results_df"
   ]
  },
  {
   "cell_type": "code",
   "execution_count": null,
   "metadata": {},
   "outputs": [],
   "source": []
  },
  {
   "cell_type": "code",
   "execution_count": 49,
   "metadata": {},
   "outputs": [
    {
     "name": "stdout",
     "output_type": "stream",
     "text": [
      "Orijinal Eğitim Veri Seti Boyutu: (8596, 51842)\n",
      "Oversampling sonrası Eğitim Veri Seti Boyutu: (30875, 51842)\n"
     ]
    }
   ],
   "source": [
    "from imblearn.over_sampling import RandomOverSampler\n",
    "\n",
    "# Oversampling için RandomOverSampler kullanımı\n",
    "ros = RandomOverSampler(random_state=42)\n",
    "X_train_resampled, y_train_resampled = ros.fit_resample(X_train_balanced, y_train_balanced)\n",
    "\n",
    "print(\"Orijinal Eğitim Veri Seti Boyutu:\", X_train_balanced.shape)\n",
    "print(\"Oversampling sonrası Eğitim Veri Seti Boyutu:\", X_train_resampled.shape)\n"
   ]
  },
  {
   "cell_type": "code",
   "execution_count": 50,
   "metadata": {},
   "outputs": [
    {
     "name": "stdout",
     "output_type": "stream",
     "text": [
      "Orijinal Eğitim Veri Seti Boyutu: (8596, 51842)\n",
      "Undersampling sonrası Eğitim Veri Seti Boyutu: (85, 51842)\n"
     ]
    }
   ],
   "source": [
    "from imblearn.under_sampling import RandomUnderSampler\n",
    "\n",
    "# Undersampling için RandomUnderSampler kullanımı\n",
    "rus = RandomUnderSampler(random_state=42)\n",
    "X_train_resampled, y_train_resampled = rus.fit_resample(X_train_balanced, y_train_balanced)\n",
    "\n",
    "print(\"Orijinal Eğitim Veri Seti Boyutu:\", X_train_balanced.shape)\n",
    "print(\"Undersampling sonrası Eğitim Veri Seti Boyutu:\", X_train_resampled.shape)\n"
   ]
  }
 ],
 "metadata": {
  "colab": {
   "provenance": []
  },
  "kernelspec": {
   "display_name": "base",
   "language": "python",
   "name": "python3"
  },
  "language_info": {
   "codemirror_mode": {
    "name": "ipython",
    "version": 3
   },
   "file_extension": ".py",
   "mimetype": "text/x-python",
   "name": "python",
   "nbconvert_exporter": "python",
   "pygments_lexer": "ipython3",
   "version": "3.11.7"
  }
 },
 "nbformat": 4,
 "nbformat_minor": 0
}
